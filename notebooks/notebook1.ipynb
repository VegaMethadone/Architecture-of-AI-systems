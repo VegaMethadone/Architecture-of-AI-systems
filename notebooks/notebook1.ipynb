{
 "cells": [
  {
   "cell_type": "code",
   "execution_count": 1,
   "id": "513e1014-5bd4-493a-910c-7d5bea701f93",
   "metadata": {
    "tags": []
   },
   "outputs": [],
   "source": [
    "from pymystem3 import Mystem\n",
    "import nltk\n",
    "import pandas as pd\n",
    "\n",
    "import re\n",
    "import json\n",
    "from os import listdir\n",
    "from os import path"
   ]
  },
  {
   "cell_type": "code",
   "execution_count": 2,
   "id": "53b504f6-cc6f-4fa1-a656-335c9b50e290",
   "metadata": {
    "tags": []
   },
   "outputs": [],
   "source": [
    "articles_dir = \"parsed_articles\"\n",
    "article_files = [f for f in listdir(articles_dir) if path.isfile(path.join(articles_dir, f))]\n",
    "\n",
    "articles = dict()\n",
    "\n",
    "for article_file in article_files:\n",
    "    article_path = path.join(articles_dir, article_file)\n",
    "    # print(article_path)\n",
    "    with open(article_path, 'r', encoding=\"UTF-8\") as f:\n",
    "        article = f.read()\n",
    "        article_json = json.loads(article)\n",
    "        articles[article_json[\"article_id\"]] = article_json\n",
    "        # print(article_json)"
   ]
  },
  {
   "cell_type": "code",
   "execution_count": 3,
   "id": "81be9820-cae2-4e37-8600-3dcbffc6a336",
   "metadata": {
    "tags": []
   },
   "outputs": [],
   "source": [
    "from nltk.corpus import stopwords\n",
    "m = Mystem()\n",
    "stopwords = set(stopwords.words('russian'))\n",
    "\n",
    "def prepare_text(text):\n",
    "    prepared_text = text\n",
    "    prepared_text = prepared_text.replace(\"\\n\", \" \")\n",
    "    prepared_text = re.sub(r'[^\\w ]', '', prepared_text)\n",
    "    prepared_text = prepared_text.lower()\n",
    "    prepared_text = \" \".join(filter(lambda x: x not in stopwords, prepared_text.split(\" \")))\n",
    "    prepared_text = ''.join(m.lemmatize(prepared_text))\n",
    "    prepared_text = prepared_text.strip()\n",
    "    \n",
    "    return prepared_text\n",
    "\n",
    "def prepare_tags(tags):\n",
    "    prepared_tags = tags\n",
    "    prepared_tags = map(lambda tag: tag.lower(), prepared_tags)\n",
    "    prepared_tags = map(lambda tag: tag.replace(\"-\", \" \"), prepared_tags)\n",
    "    \n",
    "    return list(prepared_tags)"
   ]
  },
  {
   "cell_type": "code",
   "execution_count": 4,
   "id": "764d5588-584b-4141-aa4a-88b4dfcc286e",
   "metadata": {
    "tags": []
   },
   "outputs": [
    {
     "data": {
      "text/html": [
       "<div>\n",
       "<style scoped>\n",
       "    .dataframe tbody tr th:only-of-type {\n",
       "        vertical-align: middle;\n",
       "    }\n",
       "\n",
       "    .dataframe tbody tr th {\n",
       "        vertical-align: top;\n",
       "    }\n",
       "\n",
       "    .dataframe thead th {\n",
       "        text-align: right;\n",
       "    }\n",
       "</style>\n",
       "<table border=\"1\" class=\"dataframe\">\n",
       "  <thead>\n",
       "    <tr style=\"text-align: right;\">\n",
       "      <th></th>\n",
       "      <th>article_id</th>\n",
       "      <th>article_name</th>\n",
       "      <th>content</th>\n",
       "      <th>tags</th>\n",
       "    </tr>\n",
       "  </thead>\n",
       "  <tbody>\n",
       "    <tr>\n",
       "      <th>0</th>\n",
       "      <td>729250</td>\n",
       "      <td>Rust Foundation хочет запретить менять цвета л...</td>\n",
       "      <td>предупреждение низко это запаздывать первоапре...</td>\n",
       "      <td>[rust, копирайт]</td>\n",
       "    </tr>\n",
       "    <tr>\n",
       "      <th>1</th>\n",
       "      <td>729060</td>\n",
       "      <td>Самый детальный разбор закона об электронных п...</td>\n",
       "      <td>новый закон электронный повестка потенциально ...</td>\n",
       "      <td>[законодательство, мобилизация, повестка, госу...</td>\n",
       "    </tr>\n",
       "    <tr>\n",
       "      <th>2</th>\n",
       "      <td>728856</td>\n",
       "      <td>Идеальное компьютерное кресло — миф или реальн...</td>\n",
       "      <td>привет хабр продолжать разбираться существоват...</td>\n",
       "      <td>[рабочее место, рабочее место программиста, кр...</td>\n",
       "    </tr>\n",
       "    <tr>\n",
       "      <th>3</th>\n",
       "      <td>728644</td>\n",
       "      <td>Стилмэнинг и идеологический тест Тьюринга</td>\n",
       "      <td>мысль начинаться наталкиваться препятствие лев...</td>\n",
       "      <td>[стилменинг, идеологический тест тьюринга, сол...</td>\n",
       "    </tr>\n",
       "    <tr>\n",
       "      <th>4</th>\n",
       "      <td>728748</td>\n",
       "      <td>RMT в World of Warcraft: почему Blizzard терпи...</td>\n",
       "      <td>промпт game world of warcraft fantasy doge mon...</td>\n",
       "      <td>[world of warcraft, blizzard, kandinsky art, н...</td>\n",
       "    </tr>\n",
       "    <tr>\n",
       "      <th>...</th>\n",
       "      <td>...</td>\n",
       "      <td>...</td>\n",
       "      <td>...</td>\n",
       "      <td>...</td>\n",
       "    </tr>\n",
       "    <tr>\n",
       "      <th>994</th>\n",
       "      <td>726292</td>\n",
       "      <td>Как работает веб-браузер (с картинками)</td>\n",
       "      <td>иллюстрация предоставлять  growtika браузер ст...</td>\n",
       "      <td>[браузеры, dns поиск, tcp, tls, токенизация, j...</td>\n",
       "    </tr>\n",
       "    <tr>\n",
       "      <th>995</th>\n",
       "      <td>726306</td>\n",
       "      <td>Ближайшие бесплатные мероприятия по разработке...</td>\n",
       "      <td>1 апрель начало 1100 мск суббота   онлайн    t...</td>\n",
       "      <td>[митап, конференция, mobile, документация, rab...</td>\n",
       "    </tr>\n",
       "    <tr>\n",
       "      <th>996</th>\n",
       "      <td>726316</td>\n",
       "      <td>Bash скрипты</td>\n",
       "      <td>работа командный строка linux  shell скрипт на...</td>\n",
       "      <td>[bash, bash скрипт, bash scripting, shell]</td>\n",
       "    </tr>\n",
       "    <tr>\n",
       "      <th>997</th>\n",
       "      <td>726308</td>\n",
       "      <td>ADD – добавим гибкости</td>\n",
       "      <td>такой add короче  add  английский аббревиатура...</td>\n",
       "      <td>[гибкая разработка по, методология разработки,...</td>\n",
       "    </tr>\n",
       "    <tr>\n",
       "      <th>998</th>\n",
       "      <td>726156</td>\n",
       "      <td>Позитивные сервисные байки: 10 историй от КРОК</td>\n",
       "      <td>привет хабр это команда сервисный поддержка де...</td>\n",
       "      <td>[крок, байки, 1 апреля, смешное]</td>\n",
       "    </tr>\n",
       "  </tbody>\n",
       "</table>\n",
       "<p>999 rows × 4 columns</p>\n",
       "</div>"
      ],
      "text/plain": [
       "    article_id                                       article_name  \\\n",
       "0       729250  Rust Foundation хочет запретить менять цвета л...   \n",
       "1       729060  Самый детальный разбор закона об электронных п...   \n",
       "2       728856  Идеальное компьютерное кресло — миф или реальн...   \n",
       "3       728644          Стилмэнинг и идеологический тест Тьюринга   \n",
       "4       728748  RMT в World of Warcraft: почему Blizzard терпи...   \n",
       "..         ...                                                ...   \n",
       "994     726292            Как работает веб-браузер (с картинками)   \n",
       "995     726306  Ближайшие бесплатные мероприятия по разработке...   \n",
       "996     726316                                       Bash скрипты   \n",
       "997     726308                             ADD – добавим гибкости   \n",
       "998     726156     Позитивные сервисные байки: 10 историй от КРОК   \n",
       "\n",
       "                                               content  \\\n",
       "0    предупреждение низко это запаздывать первоапре...   \n",
       "1    новый закон электронный повестка потенциально ...   \n",
       "2    привет хабр продолжать разбираться существоват...   \n",
       "3    мысль начинаться наталкиваться препятствие лев...   \n",
       "4    промпт game world of warcraft fantasy doge mon...   \n",
       "..                                                 ...   \n",
       "994  иллюстрация предоставлять  growtika браузер ст...   \n",
       "995  1 апрель начало 1100 мск суббота   онлайн    t...   \n",
       "996  работа командный строка linux  shell скрипт на...   \n",
       "997  такой add короче  add  английский аббревиатура...   \n",
       "998  привет хабр это команда сервисный поддержка де...   \n",
       "\n",
       "                                                  tags  \n",
       "0                                     [rust, копирайт]  \n",
       "1    [законодательство, мобилизация, повестка, госу...  \n",
       "2    [рабочее место, рабочее место программиста, кр...  \n",
       "3    [стилменинг, идеологический тест тьюринга, сол...  \n",
       "4    [world of warcraft, blizzard, kandinsky art, н...  \n",
       "..                                                 ...  \n",
       "994  [браузеры, dns поиск, tcp, tls, токенизация, j...  \n",
       "995  [митап, конференция, mobile, документация, rab...  \n",
       "996         [bash, bash скрипт, bash scripting, shell]  \n",
       "997  [гибкая разработка по, методология разработки,...  \n",
       "998                   [крок, байки, 1 апреля, смешное]  \n",
       "\n",
       "[999 rows x 4 columns]"
      ]
     },
     "execution_count": 4,
     "metadata": {},
     "output_type": "execute_result"
    }
   ],
   "source": [
    "df = pd.DataFrame(articles.values())\n",
    "df['content'] = df['content'].apply(prepare_text)\n",
    "df['tags'] = df['tags'].apply(prepare_tags)\n",
    "df"
   ]
  },
  {
   "cell_type": "code",
   "execution_count": 25,
   "id": "89072165-e813-4a82-a280-84f02cfb945d",
   "metadata": {
    "tags": []
   },
   "outputs": [],
   "source": [
    "# list(filter(lambda t: len(t)<3, df[\"tags\"]))"
   ]
  },
  {
   "cell_type": "code",
   "execution_count": 5,
   "id": "cb2d277f-4446-4c96-980a-08624ee55783",
   "metadata": {
    "tags": []
   },
   "outputs": [
    {
     "data": {
      "text/plain": [
       "3648"
      ]
     },
     "execution_count": 5,
     "metadata": {},
     "output_type": "execute_result"
    }
   ],
   "source": [
    "from sklearn.preprocessing import MultiLabelBinarizer\n",
    "mlb = MultiLabelBinarizer()\n",
    "y = mlb.fit_transform(df['tags'])\n",
    "len(mlb.classes_)"
   ]
  },
  {
   "cell_type": "code",
   "execution_count": 6,
   "id": "ef0e6324-3c44-4bdd-84c9-b951c68be1c0",
   "metadata": {
    "tags": []
   },
   "outputs": [
    {
     "data": {
      "text/html": [
       "<div>\n",
       "<style scoped>\n",
       "    .dataframe tbody tr th:only-of-type {\n",
       "        vertical-align: middle;\n",
       "    }\n",
       "\n",
       "    .dataframe tbody tr th {\n",
       "        vertical-align: top;\n",
       "    }\n",
       "\n",
       "    .dataframe thead th {\n",
       "        text-align: right;\n",
       "    }\n",
       "</style>\n",
       "<table border=\"1\" class=\"dataframe\">\n",
       "  <thead>\n",
       "    <tr style=\"text-align: right;\">\n",
       "      <th></th>\n",
       "      <th>article_id</th>\n",
       "      <th>article_name</th>\n",
       "      <th>content</th>\n",
       "      <th>tags</th>\n",
       "      <th>tags_bins</th>\n",
       "    </tr>\n",
       "  </thead>\n",
       "  <tbody>\n",
       "    <tr>\n",
       "      <th>0</th>\n",
       "      <td>729250</td>\n",
       "      <td>Rust Foundation хочет запретить менять цвета л...</td>\n",
       "      <td>предупреждение низко это запаздывать первоапре...</td>\n",
       "      <td>[rust, копирайт]</td>\n",
       "      <td>[0, 0, 0, 0, 0, 0, 0, 0, 0, 0, 0, 0, 0, 0, 0, ...</td>\n",
       "    </tr>\n",
       "    <tr>\n",
       "      <th>1</th>\n",
       "      <td>729060</td>\n",
       "      <td>Самый детальный разбор закона об электронных п...</td>\n",
       "      <td>новый закон электронный повестка потенциально ...</td>\n",
       "      <td>[законодательство, мобилизация, повестка, госу...</td>\n",
       "      <td>[0, 0, 0, 0, 0, 0, 0, 0, 0, 0, 0, 0, 0, 0, 0, ...</td>\n",
       "    </tr>\n",
       "    <tr>\n",
       "      <th>2</th>\n",
       "      <td>728856</td>\n",
       "      <td>Идеальное компьютерное кресло — миф или реальн...</td>\n",
       "      <td>привет хабр продолжать разбираться существоват...</td>\n",
       "      <td>[рабочее место, рабочее место программиста, кр...</td>\n",
       "      <td>[0, 0, 0, 0, 0, 0, 0, 0, 0, 0, 0, 0, 0, 0, 0, ...</td>\n",
       "    </tr>\n",
       "    <tr>\n",
       "      <th>3</th>\n",
       "      <td>728644</td>\n",
       "      <td>Стилмэнинг и идеологический тест Тьюринга</td>\n",
       "      <td>мысль начинаться наталкиваться препятствие лев...</td>\n",
       "      <td>[стилменинг, идеологический тест тьюринга, сол...</td>\n",
       "      <td>[0, 0, 0, 0, 0, 0, 0, 0, 0, 0, 0, 0, 0, 0, 0, ...</td>\n",
       "    </tr>\n",
       "    <tr>\n",
       "      <th>4</th>\n",
       "      <td>728748</td>\n",
       "      <td>RMT в World of Warcraft: почему Blizzard терпи...</td>\n",
       "      <td>промпт game world of warcraft fantasy doge mon...</td>\n",
       "      <td>[world of warcraft, blizzard, kandinsky art, н...</td>\n",
       "      <td>[0, 0, 0, 0, 0, 0, 0, 0, 0, 0, 0, 0, 0, 0, 0, ...</td>\n",
       "    </tr>\n",
       "    <tr>\n",
       "      <th>...</th>\n",
       "      <td>...</td>\n",
       "      <td>...</td>\n",
       "      <td>...</td>\n",
       "      <td>...</td>\n",
       "      <td>...</td>\n",
       "    </tr>\n",
       "    <tr>\n",
       "      <th>994</th>\n",
       "      <td>726292</td>\n",
       "      <td>Как работает веб-браузер (с картинками)</td>\n",
       "      <td>иллюстрация предоставлять  growtika браузер ст...</td>\n",
       "      <td>[браузеры, dns поиск, tcp, tls, токенизация, j...</td>\n",
       "      <td>[0, 0, 0, 0, 0, 0, 0, 0, 0, 0, 0, 0, 0, 0, 0, ...</td>\n",
       "    </tr>\n",
       "    <tr>\n",
       "      <th>995</th>\n",
       "      <td>726306</td>\n",
       "      <td>Ближайшие бесплатные мероприятия по разработке...</td>\n",
       "      <td>1 апрель начало 1100 мск суббота   онлайн    t...</td>\n",
       "      <td>[митап, конференция, mobile, документация, rab...</td>\n",
       "      <td>[0, 0, 0, 0, 0, 0, 0, 0, 0, 0, 0, 0, 0, 0, 0, ...</td>\n",
       "    </tr>\n",
       "    <tr>\n",
       "      <th>996</th>\n",
       "      <td>726316</td>\n",
       "      <td>Bash скрипты</td>\n",
       "      <td>работа командный строка linux  shell скрипт на...</td>\n",
       "      <td>[bash, bash скрипт, bash scripting, shell]</td>\n",
       "      <td>[0, 0, 0, 0, 0, 0, 0, 0, 0, 0, 0, 0, 0, 0, 0, ...</td>\n",
       "    </tr>\n",
       "    <tr>\n",
       "      <th>997</th>\n",
       "      <td>726308</td>\n",
       "      <td>ADD – добавим гибкости</td>\n",
       "      <td>такой add короче  add  английский аббревиатура...</td>\n",
       "      <td>[гибкая разработка по, методология разработки,...</td>\n",
       "      <td>[0, 0, 0, 0, 0, 1, 0, 0, 0, 0, 0, 0, 0, 0, 0, ...</td>\n",
       "    </tr>\n",
       "    <tr>\n",
       "      <th>998</th>\n",
       "      <td>726156</td>\n",
       "      <td>Позитивные сервисные байки: 10 историй от КРОК</td>\n",
       "      <td>привет хабр это команда сервисный поддержка де...</td>\n",
       "      <td>[крок, байки, 1 апреля, смешное]</td>\n",
       "      <td>[0, 0, 0, 0, 0, 1, 0, 0, 0, 0, 0, 0, 0, 0, 0, ...</td>\n",
       "    </tr>\n",
       "  </tbody>\n",
       "</table>\n",
       "<p>999 rows × 5 columns</p>\n",
       "</div>"
      ],
      "text/plain": [
       "    article_id                                       article_name  \\\n",
       "0       729250  Rust Foundation хочет запретить менять цвета л...   \n",
       "1       729060  Самый детальный разбор закона об электронных п...   \n",
       "2       728856  Идеальное компьютерное кресло — миф или реальн...   \n",
       "3       728644          Стилмэнинг и идеологический тест Тьюринга   \n",
       "4       728748  RMT в World of Warcraft: почему Blizzard терпи...   \n",
       "..         ...                                                ...   \n",
       "994     726292            Как работает веб-браузер (с картинками)   \n",
       "995     726306  Ближайшие бесплатные мероприятия по разработке...   \n",
       "996     726316                                       Bash скрипты   \n",
       "997     726308                             ADD – добавим гибкости   \n",
       "998     726156     Позитивные сервисные байки: 10 историй от КРОК   \n",
       "\n",
       "                                               content  \\\n",
       "0    предупреждение низко это запаздывать первоапре...   \n",
       "1    новый закон электронный повестка потенциально ...   \n",
       "2    привет хабр продолжать разбираться существоват...   \n",
       "3    мысль начинаться наталкиваться препятствие лев...   \n",
       "4    промпт game world of warcraft fantasy doge mon...   \n",
       "..                                                 ...   \n",
       "994  иллюстрация предоставлять  growtika браузер ст...   \n",
       "995  1 апрель начало 1100 мск суббота   онлайн    t...   \n",
       "996  работа командный строка linux  shell скрипт на...   \n",
       "997  такой add короче  add  английский аббревиатура...   \n",
       "998  привет хабр это команда сервисный поддержка де...   \n",
       "\n",
       "                                                  tags  \\\n",
       "0                                     [rust, копирайт]   \n",
       "1    [законодательство, мобилизация, повестка, госу...   \n",
       "2    [рабочее место, рабочее место программиста, кр...   \n",
       "3    [стилменинг, идеологический тест тьюринга, сол...   \n",
       "4    [world of warcraft, blizzard, kandinsky art, н...   \n",
       "..                                                 ...   \n",
       "994  [браузеры, dns поиск, tcp, tls, токенизация, j...   \n",
       "995  [митап, конференция, mobile, документация, rab...   \n",
       "996         [bash, bash скрипт, bash scripting, shell]   \n",
       "997  [гибкая разработка по, методология разработки,...   \n",
       "998                   [крок, байки, 1 апреля, смешное]   \n",
       "\n",
       "                                             tags_bins  \n",
       "0    [0, 0, 0, 0, 0, 0, 0, 0, 0, 0, 0, 0, 0, 0, 0, ...  \n",
       "1    [0, 0, 0, 0, 0, 0, 0, 0, 0, 0, 0, 0, 0, 0, 0, ...  \n",
       "2    [0, 0, 0, 0, 0, 0, 0, 0, 0, 0, 0, 0, 0, 0, 0, ...  \n",
       "3    [0, 0, 0, 0, 0, 0, 0, 0, 0, 0, 0, 0, 0, 0, 0, ...  \n",
       "4    [0, 0, 0, 0, 0, 0, 0, 0, 0, 0, 0, 0, 0, 0, 0, ...  \n",
       "..                                                 ...  \n",
       "994  [0, 0, 0, 0, 0, 0, 0, 0, 0, 0, 0, 0, 0, 0, 0, ...  \n",
       "995  [0, 0, 0, 0, 0, 0, 0, 0, 0, 0, 0, 0, 0, 0, 0, ...  \n",
       "996  [0, 0, 0, 0, 0, 0, 0, 0, 0, 0, 0, 0, 0, 0, 0, ...  \n",
       "997  [0, 0, 0, 0, 0, 1, 0, 0, 0, 0, 0, 0, 0, 0, 0, ...  \n",
       "998  [0, 0, 0, 0, 0, 1, 0, 0, 0, 0, 0, 0, 0, 0, 0, ...  \n",
       "\n",
       "[999 rows x 5 columns]"
      ]
     },
     "execution_count": 6,
     "metadata": {},
     "output_type": "execute_result"
    }
   ],
   "source": [
    "df[\"tags_bins\"] = df[\"tags\"].apply(lambda x: mlb.transform([x])[0])\n",
    "df"
   ]
  },
  {
   "cell_type": "code",
   "execution_count": 7,
   "id": "a88237a0-e1f7-4d85-81d8-0c1f1cd1fa28",
   "metadata": {
    "tags": []
   },
   "outputs": [],
   "source": [
    "# mlb.inverse_transform(y)[0]"
   ]
  },
  {
   "cell_type": "code",
   "execution_count": 7,
   "id": "93996434-fd90-4ae1-b0a5-c1c01320b536",
   "metadata": {
    "tags": []
   },
   "outputs": [],
   "source": [
    "from sklearn.model_selection import train_test_split\n",
    "X_train, X_test, y_train, y_test = train_test_split(df, y, test_size = 0.3, random_state=120)"
   ]
  },
  {
   "cell_type": "code",
   "execution_count": 80,
   "id": "20977850-fdd0-4c0b-85ba-bcdd17189c07",
   "metadata": {
    "tags": []
   },
   "outputs": [],
   "source": [
    "# train, test = train_test_split(df, test_size = 0.25, random_state=95)"
   ]
  },
  {
   "cell_type": "code",
   "execution_count": 15,
   "id": "2b8b8641-c2a2-429b-ac00-a12f4d71a8cc",
   "metadata": {
    "tags": []
   },
   "outputs": [],
   "source": [
    "from sklearn.feature_extraction.text import TfidfVectorizer, CountVectorizer\n",
    "\n",
    "tdidf_vectorizer = TfidfVectorizer(decode_error='ignore')\n",
    "X_train_tdidf_vectorized = tdidf_vectorizer.fit_transform(X_train['content'])\n",
    "X_test_tdidf_vectorized = tdidf_vectorizer.transform(X_test['content'])"
   ]
  },
  {
   "cell_type": "code",
   "execution_count": 29,
   "id": "30beda4f-ff60-42f5-b95a-27e2ccfd04ed",
   "metadata": {
    "tags": []
   },
   "outputs": [
    {
     "data": {
      "text/plain": [
       "array([0, 0, 0, ..., 0, 0, 0])"
      ]
     },
     "execution_count": 29,
     "metadata": {},
     "output_type": "execute_result"
    }
   ],
   "source": [
    "y_test[0]"
   ]
  },
  {
   "cell_type": "code",
   "execution_count": 28,
   "id": "3c58dc28-2276-4980-bd4e-67f7e9b24bbf",
   "metadata": {
    "tags": []
   },
   "outputs": [
    {
     "name": "stdout",
     "output_type": "stream",
     "text": [
      "warnings will be ignored\n"
     ]
    },
    {
     "data": {
      "text/html": [
       "<style>#sk-container-id-3 {color: black;background-color: white;}#sk-container-id-3 pre{padding: 0;}#sk-container-id-3 div.sk-toggleable {background-color: white;}#sk-container-id-3 label.sk-toggleable__label {cursor: pointer;display: block;width: 100%;margin-bottom: 0;padding: 0.3em;box-sizing: border-box;text-align: center;}#sk-container-id-3 label.sk-toggleable__label-arrow:before {content: \"▸\";float: left;margin-right: 0.25em;color: #696969;}#sk-container-id-3 label.sk-toggleable__label-arrow:hover:before {color: black;}#sk-container-id-3 div.sk-estimator:hover label.sk-toggleable__label-arrow:before {color: black;}#sk-container-id-3 div.sk-toggleable__content {max-height: 0;max-width: 0;overflow: hidden;text-align: left;background-color: #f0f8ff;}#sk-container-id-3 div.sk-toggleable__content pre {margin: 0.2em;color: black;border-radius: 0.25em;background-color: #f0f8ff;}#sk-container-id-3 input.sk-toggleable__control:checked~div.sk-toggleable__content {max-height: 200px;max-width: 100%;overflow: auto;}#sk-container-id-3 input.sk-toggleable__control:checked~label.sk-toggleable__label-arrow:before {content: \"▾\";}#sk-container-id-3 div.sk-estimator input.sk-toggleable__control:checked~label.sk-toggleable__label {background-color: #d4ebff;}#sk-container-id-3 div.sk-label input.sk-toggleable__control:checked~label.sk-toggleable__label {background-color: #d4ebff;}#sk-container-id-3 input.sk-hidden--visually {border: 0;clip: rect(1px 1px 1px 1px);clip: rect(1px, 1px, 1px, 1px);height: 1px;margin: -1px;overflow: hidden;padding: 0;position: absolute;width: 1px;}#sk-container-id-3 div.sk-estimator {font-family: monospace;background-color: #f0f8ff;border: 1px dotted black;border-radius: 0.25em;box-sizing: border-box;margin-bottom: 0.5em;}#sk-container-id-3 div.sk-estimator:hover {background-color: #d4ebff;}#sk-container-id-3 div.sk-parallel-item::after {content: \"\";width: 100%;border-bottom: 1px solid gray;flex-grow: 1;}#sk-container-id-3 div.sk-label:hover label.sk-toggleable__label {background-color: #d4ebff;}#sk-container-id-3 div.sk-serial::before {content: \"\";position: absolute;border-left: 1px solid gray;box-sizing: border-box;top: 0;bottom: 0;left: 50%;z-index: 0;}#sk-container-id-3 div.sk-serial {display: flex;flex-direction: column;align-items: center;background-color: white;padding-right: 0.2em;padding-left: 0.2em;position: relative;}#sk-container-id-3 div.sk-item {position: relative;z-index: 1;}#sk-container-id-3 div.sk-parallel {display: flex;align-items: stretch;justify-content: center;background-color: white;position: relative;}#sk-container-id-3 div.sk-item::before, #sk-container-id-3 div.sk-parallel-item::before {content: \"\";position: absolute;border-left: 1px solid gray;box-sizing: border-box;top: 0;bottom: 0;left: 50%;z-index: -1;}#sk-container-id-3 div.sk-parallel-item {display: flex;flex-direction: column;z-index: 1;position: relative;background-color: white;}#sk-container-id-3 div.sk-parallel-item:first-child::after {align-self: flex-end;width: 50%;}#sk-container-id-3 div.sk-parallel-item:last-child::after {align-self: flex-start;width: 50%;}#sk-container-id-3 div.sk-parallel-item:only-child::after {width: 0;}#sk-container-id-3 div.sk-dashed-wrapped {border: 1px dashed gray;margin: 0 0.4em 0.5em 0.4em;box-sizing: border-box;padding-bottom: 0.4em;background-color: white;}#sk-container-id-3 div.sk-label label {font-family: monospace;font-weight: bold;display: inline-block;line-height: 1.2em;}#sk-container-id-3 div.sk-label-container {text-align: center;}#sk-container-id-3 div.sk-container {/* jupyter's `normalize.less` sets `[hidden] { display: none; }` but bootstrap.min.css set `[hidden] { display: none !important; }` so we also need the `!important` here to be able to override the default hidden behavior on the sphinx rendered scikit-learn.org. See: https://github.com/scikit-learn/scikit-learn/issues/21755 */display: inline-block !important;position: relative;}#sk-container-id-3 div.sk-text-repr-fallback {display: none;}</style><div id=\"sk-container-id-3\" class=\"sk-top-container\"><div class=\"sk-text-repr-fallback\"><pre>OneVsRestClassifier(estimator=LinearSVC(random_state=50))</pre><b>In a Jupyter environment, please rerun this cell to show the HTML representation or trust the notebook. <br />On GitHub, the HTML representation is unable to render, please try loading this page with nbviewer.org.</b></div><div class=\"sk-container\" hidden><div class=\"sk-item sk-dashed-wrapped\"><div class=\"sk-label-container\"><div class=\"sk-label sk-toggleable\"><input class=\"sk-toggleable__control sk-hidden--visually\" id=\"sk-estimator-id-7\" type=\"checkbox\" ><label for=\"sk-estimator-id-7\" class=\"sk-toggleable__label sk-toggleable__label-arrow\">OneVsRestClassifier</label><div class=\"sk-toggleable__content\"><pre>OneVsRestClassifier(estimator=LinearSVC(random_state=50))</pre></div></div></div><div class=\"sk-parallel\"><div class=\"sk-parallel-item\"><div class=\"sk-item\"><div class=\"sk-label-container\"><div class=\"sk-label sk-toggleable\"><input class=\"sk-toggleable__control sk-hidden--visually\" id=\"sk-estimator-id-8\" type=\"checkbox\" ><label for=\"sk-estimator-id-8\" class=\"sk-toggleable__label sk-toggleable__label-arrow\">estimator: LinearSVC</label><div class=\"sk-toggleable__content\"><pre>LinearSVC(random_state=50)</pre></div></div></div><div class=\"sk-serial\"><div class=\"sk-item\"><div class=\"sk-estimator sk-toggleable\"><input class=\"sk-toggleable__control sk-hidden--visually\" id=\"sk-estimator-id-9\" type=\"checkbox\" ><label for=\"sk-estimator-id-9\" class=\"sk-toggleable__label sk-toggleable__label-arrow\">LinearSVC</label><div class=\"sk-toggleable__content\"><pre>LinearSVC(random_state=50)</pre></div></div></div></div></div></div></div></div></div></div>"
      ],
      "text/plain": [
       "OneVsRestClassifier(estimator=LinearSVC(random_state=50))"
      ]
     },
     "execution_count": 28,
     "metadata": {},
     "output_type": "execute_result"
    }
   ],
   "source": [
    "# classifier v1\n",
    "from sklearn.svm import LinearSVC\n",
    "from sklearn.metrics import classification_report\n",
    "from sklearn.multiclass import OneVsRestClassifier\n",
    "\n",
    "#обучаем подель SVM\n",
    "\n",
    "import warnings\n",
    "warnings.filterwarnings('ignore')\n",
    "print(\"warnings will be ignored\")\n",
    "\n",
    "model = OneVsRestClassifier(LinearSVC(random_state = 50))\n",
    "model.fit(X_train_tdidf_vectorized, y_train)"
   ]
  },
  {
   "cell_type": "code",
   "execution_count": 10,
   "id": "0a39b6d7-52f0-4e0c-ad22-5292041be17a",
   "metadata": {
    "tags": []
   },
   "outputs": [],
   "source": [
    "# predictions = model.predict(X_test_tdidf_vectorized)\n",
    "\n",
    "# pred_tags = mlb.inverse_transform(predictions)\n",
    "# list(zip(X_test['article_id'], pred_tags))\n",
    "# list(map(lambda a: (f\"https://habr.com/ru/articles/{a[0]}\", a[1]), zip(X_test['article_id'], pred_tags)))\n",
    "# [print(f\"tags: {tags} \\nclassified: {pred_tags}\\n\\n\") for tags, pred_tags in zip(X_test['tags'], pred_tags)]"
   ]
  },
  {
   "cell_type": "code",
   "execution_count": null,
   "id": "5143eb0f-3750-40ee-a6cf-5d23cf01cf81",
   "metadata": {},
   "outputs": [],
   "source": [
    "# may be useful\n",
    "\n",
    "# LogReg_pipeline = Pipeline([\n",
    "#                 ('tfidf', TfidfVectorizer()),\n",
    "#                 ('clf', OneVsRestClassifier(LogisticRegression(solver='sag'), n_jobs=1)),\n",
    "#             ])\n",
    "# for category in categories:\n",
    "#     print('... Processing {}'.format(category))\n",
    "#     # train the model using X_dtm & y\n",
    "#     LogReg_pipeline.fit(X_train, train[category])\n",
    "#     # compute the testing accuracy\n",
    "#     prediction = LogReg_pipeline.predict(X_test)\n",
    "#     print('Test accuracy is {}'.format(accuracy_score(test[category], prediction)))"
   ]
  },
  {
   "cell_type": "code",
   "execution_count": 30,
   "id": "765c0517-e510-486a-9470-a197ee098980",
   "metadata": {
    "tags": []
   },
   "outputs": [
    {
     "name": "stdout",
     "output_type": "stream",
     "text": [
      "warnings will be ignored\n"
     ]
    },
    {
     "data": {
      "text/html": [
       "<style>#sk-container-id-2 {color: black;background-color: white;}#sk-container-id-2 pre{padding: 0;}#sk-container-id-2 div.sk-toggleable {background-color: white;}#sk-container-id-2 label.sk-toggleable__label {cursor: pointer;display: block;width: 100%;margin-bottom: 0;padding: 0.3em;box-sizing: border-box;text-align: center;}#sk-container-id-2 label.sk-toggleable__label-arrow:before {content: \"▸\";float: left;margin-right: 0.25em;color: #696969;}#sk-container-id-2 label.sk-toggleable__label-arrow:hover:before {color: black;}#sk-container-id-2 div.sk-estimator:hover label.sk-toggleable__label-arrow:before {color: black;}#sk-container-id-2 div.sk-toggleable__content {max-height: 0;max-width: 0;overflow: hidden;text-align: left;background-color: #f0f8ff;}#sk-container-id-2 div.sk-toggleable__content pre {margin: 0.2em;color: black;border-radius: 0.25em;background-color: #f0f8ff;}#sk-container-id-2 input.sk-toggleable__control:checked~div.sk-toggleable__content {max-height: 200px;max-width: 100%;overflow: auto;}#sk-container-id-2 input.sk-toggleable__control:checked~label.sk-toggleable__label-arrow:before {content: \"▾\";}#sk-container-id-2 div.sk-estimator input.sk-toggleable__control:checked~label.sk-toggleable__label {background-color: #d4ebff;}#sk-container-id-2 div.sk-label input.sk-toggleable__control:checked~label.sk-toggleable__label {background-color: #d4ebff;}#sk-container-id-2 input.sk-hidden--visually {border: 0;clip: rect(1px 1px 1px 1px);clip: rect(1px, 1px, 1px, 1px);height: 1px;margin: -1px;overflow: hidden;padding: 0;position: absolute;width: 1px;}#sk-container-id-2 div.sk-estimator {font-family: monospace;background-color: #f0f8ff;border: 1px dotted black;border-radius: 0.25em;box-sizing: border-box;margin-bottom: 0.5em;}#sk-container-id-2 div.sk-estimator:hover {background-color: #d4ebff;}#sk-container-id-2 div.sk-parallel-item::after {content: \"\";width: 100%;border-bottom: 1px solid gray;flex-grow: 1;}#sk-container-id-2 div.sk-label:hover label.sk-toggleable__label {background-color: #d4ebff;}#sk-container-id-2 div.sk-serial::before {content: \"\";position: absolute;border-left: 1px solid gray;box-sizing: border-box;top: 0;bottom: 0;left: 50%;z-index: 0;}#sk-container-id-2 div.sk-serial {display: flex;flex-direction: column;align-items: center;background-color: white;padding-right: 0.2em;padding-left: 0.2em;position: relative;}#sk-container-id-2 div.sk-item {position: relative;z-index: 1;}#sk-container-id-2 div.sk-parallel {display: flex;align-items: stretch;justify-content: center;background-color: white;position: relative;}#sk-container-id-2 div.sk-item::before, #sk-container-id-2 div.sk-parallel-item::before {content: \"\";position: absolute;border-left: 1px solid gray;box-sizing: border-box;top: 0;bottom: 0;left: 50%;z-index: -1;}#sk-container-id-2 div.sk-parallel-item {display: flex;flex-direction: column;z-index: 1;position: relative;background-color: white;}#sk-container-id-2 div.sk-parallel-item:first-child::after {align-self: flex-end;width: 50%;}#sk-container-id-2 div.sk-parallel-item:last-child::after {align-self: flex-start;width: 50%;}#sk-container-id-2 div.sk-parallel-item:only-child::after {width: 0;}#sk-container-id-2 div.sk-dashed-wrapped {border: 1px dashed gray;margin: 0 0.4em 0.5em 0.4em;box-sizing: border-box;padding-bottom: 0.4em;background-color: white;}#sk-container-id-2 div.sk-label label {font-family: monospace;font-weight: bold;display: inline-block;line-height: 1.2em;}#sk-container-id-2 div.sk-label-container {text-align: center;}#sk-container-id-2 div.sk-container {/* jupyter's `normalize.less` sets `[hidden] { display: none; }` but bootstrap.min.css set `[hidden] { display: none !important; }` so we also need the `!important` here to be able to override the default hidden behavior on the sphinx rendered scikit-learn.org. See: https://github.com/scikit-learn/scikit-learn/issues/21755 */display: inline-block !important;position: relative;}#sk-container-id-2 div.sk-text-repr-fallback {display: none;}</style><div id=\"sk-container-id-2\" class=\"sk-top-container\"><div class=\"sk-text-repr-fallback\"><pre>OneVsRestClassifier(estimator=LinearSVC(random_state=40))</pre><b>In a Jupyter environment, please rerun this cell to show the HTML representation or trust the notebook. <br />On GitHub, the HTML representation is unable to render, please try loading this page with nbviewer.org.</b></div><div class=\"sk-container\" hidden><div class=\"sk-item sk-dashed-wrapped\"><div class=\"sk-label-container\"><div class=\"sk-label sk-toggleable\"><input class=\"sk-toggleable__control sk-hidden--visually\" id=\"sk-estimator-id-4\" type=\"checkbox\" ><label for=\"sk-estimator-id-4\" class=\"sk-toggleable__label sk-toggleable__label-arrow\">OneVsRestClassifier</label><div class=\"sk-toggleable__content\"><pre>OneVsRestClassifier(estimator=LinearSVC(random_state=40))</pre></div></div></div><div class=\"sk-parallel\"><div class=\"sk-parallel-item\"><div class=\"sk-item\"><div class=\"sk-label-container\"><div class=\"sk-label sk-toggleable\"><input class=\"sk-toggleable__control sk-hidden--visually\" id=\"sk-estimator-id-5\" type=\"checkbox\" ><label for=\"sk-estimator-id-5\" class=\"sk-toggleable__label sk-toggleable__label-arrow\">estimator: LinearSVC</label><div class=\"sk-toggleable__content\"><pre>LinearSVC(random_state=40)</pre></div></div></div><div class=\"sk-serial\"><div class=\"sk-item\"><div class=\"sk-estimator sk-toggleable\"><input class=\"sk-toggleable__control sk-hidden--visually\" id=\"sk-estimator-id-6\" type=\"checkbox\" ><label for=\"sk-estimator-id-6\" class=\"sk-toggleable__label sk-toggleable__label-arrow\">LinearSVC</label><div class=\"sk-toggleable__content\"><pre>LinearSVC(random_state=40)</pre></div></div></div></div></div></div></div></div></div></div>"
      ],
      "text/plain": [
       "OneVsRestClassifier(estimator=LinearSVC(random_state=40))"
      ]
     },
     "execution_count": 30,
     "metadata": {},
     "output_type": "execute_result"
    }
   ],
   "source": [
    "# var 2\n",
    "from sklearn.feature_extraction.text import TfidfVectorizer, CountVectorizer\n",
    "from sklearn.svm import LinearSVC\n",
    "from sklearn.metrics import classification_report\n",
    "from sklearn.multiclass import OneVsRestClassifier\n",
    "\n",
    "count_vectorizer = CountVectorizer(decode_error='ignore')\n",
    "X_train_count_vectorized = count_vectorizer.fit_transform(X_train['content'])\n",
    "X_test_count_vectorized = count_vectorizer.transform(X_test['content'])\n",
    "\n",
    "#обучаем подель SVM\n",
    "\n",
    "import warnings\n",
    "warnings.filterwarnings('ignore')\n",
    "print(\"warnings will be ignored\")\n",
    "\n",
    "model = OneVsRestClassifier(LinearSVC(random_state = 40))\n",
    "model.fit(X_train_count_vectorized, y_train)"
   ]
  },
  {
   "cell_type": "code",
   "execution_count": 9,
   "id": "0fbd0a3f-05b7-4bac-88d6-be2595321423",
   "metadata": {
    "tags": []
   },
   "outputs": [
    {
     "ename": "NameError",
     "evalue": "name 'model' is not defined",
     "output_type": "error",
     "traceback": [
      "\u001b[0;31m---------------------------------------------------------------------------\u001b[0m",
      "\u001b[0;31mNameError\u001b[0m                                 Traceback (most recent call last)",
      "Cell \u001b[0;32mIn [9], line 1\u001b[0m\n\u001b[0;32m----> 1\u001b[0m predictions \u001b[38;5;241m=\u001b[39m model\u001b[38;5;241m.\u001b[39mpredict(X_test_count_vectorized)\n\u001b[1;32m      2\u001b[0m pred_tags \u001b[38;5;241m=\u001b[39m mlb\u001b[38;5;241m.\u001b[39minverse_transform(predictions)\n\u001b[1;32m      3\u001b[0m \u001b[38;5;66;03m# list(zip(X_test['article_id'], pred_tags))\u001b[39;00m\n",
      "\u001b[0;31mNameError\u001b[0m: name 'model' is not defined"
     ]
    }
   ],
   "source": [
    "predictions = model.predict(X_test_count_vectorized)\n",
    "pred_tags = mlb.inverse_transform(predictions)\n",
    "# list(zip(X_test['article_id'], pred_tags))\n",
    "for tags, pred_tags in zip(X_test['tags'], pred_tags):\n",
    "    print(f\"tags: {tags} \\nclassified: {pred_tags}\\n\\n\")"
   ]
  },
  {
   "cell_type": "code",
   "execution_count": null,
   "id": "8e6db815-57a9-458b-a4c5-9f305401f891",
   "metadata": {},
   "outputs": [],
   "source": []
  },
  {
   "cell_type": "code",
   "execution_count": 33,
   "id": "e7353b2d-5bc5-44e8-aea1-3dd486fce604",
   "metadata": {
    "tags": []
   },
   "outputs": [
    {
     "data": {
      "text/plain": [
       "0.008"
      ]
     },
     "execution_count": 33,
     "metadata": {},
     "output_type": "execute_result"
    }
   ],
   "source": [
    "model.score(X_test_count_vectorized, y_test)"
   ]
  },
  {
   "cell_type": "code",
   "execution_count": 39,
   "id": "b1522726-75b1-4850-80cb-8049064f759a",
   "metadata": {
    "tags": []
   },
   "outputs": [],
   "source": [
    "# classifier var 3\n",
    "from sklearn.multiclass import OneVsRestClassifier\n",
    "from sklearn.linear_model import LogisticRegression\n",
    "\n",
    "# LogReg_pipeline = Pipeline([\n",
    "#                 ('tfidf', TfidfVectorizer()),\n",
    "#                 ('clf', OneVsRestClassifier(LogisticRegression(solver='sag'), n_jobs=-1)),\n",
    "#             ])\n",
    "# solvers = ['liblinear', 'newton-cg', 'sag', 'saga', 'lbfgs']\n",
    "\n",
    "model3 = OneVsRestClassifier(LogisticRegression(solver='lbfgs', random_state = 50))\n",
    "\n",
    "# print('Processing...')\n",
    "# model3.fit(X_train_tdidf_vectorized, y_train)"
   ]
  },
  {
   "cell_type": "code",
   "execution_count": 25,
   "id": "84ef6001-a5e6-4a5f-8a04-ea9d09c1a5eb",
   "metadata": {
    "tags": []
   },
   "outputs": [
    {
     "data": {
      "text/html": [
       "<style>#sk-container-id-2 {color: black;background-color: white;}#sk-container-id-2 pre{padding: 0;}#sk-container-id-2 div.sk-toggleable {background-color: white;}#sk-container-id-2 label.sk-toggleable__label {cursor: pointer;display: block;width: 100%;margin-bottom: 0;padding: 0.3em;box-sizing: border-box;text-align: center;}#sk-container-id-2 label.sk-toggleable__label-arrow:before {content: \"▸\";float: left;margin-right: 0.25em;color: #696969;}#sk-container-id-2 label.sk-toggleable__label-arrow:hover:before {color: black;}#sk-container-id-2 div.sk-estimator:hover label.sk-toggleable__label-arrow:before {color: black;}#sk-container-id-2 div.sk-toggleable__content {max-height: 0;max-width: 0;overflow: hidden;text-align: left;background-color: #f0f8ff;}#sk-container-id-2 div.sk-toggleable__content pre {margin: 0.2em;color: black;border-radius: 0.25em;background-color: #f0f8ff;}#sk-container-id-2 input.sk-toggleable__control:checked~div.sk-toggleable__content {max-height: 200px;max-width: 100%;overflow: auto;}#sk-container-id-2 input.sk-toggleable__control:checked~label.sk-toggleable__label-arrow:before {content: \"▾\";}#sk-container-id-2 div.sk-estimator input.sk-toggleable__control:checked~label.sk-toggleable__label {background-color: #d4ebff;}#sk-container-id-2 div.sk-label input.sk-toggleable__control:checked~label.sk-toggleable__label {background-color: #d4ebff;}#sk-container-id-2 input.sk-hidden--visually {border: 0;clip: rect(1px 1px 1px 1px);clip: rect(1px, 1px, 1px, 1px);height: 1px;margin: -1px;overflow: hidden;padding: 0;position: absolute;width: 1px;}#sk-container-id-2 div.sk-estimator {font-family: monospace;background-color: #f0f8ff;border: 1px dotted black;border-radius: 0.25em;box-sizing: border-box;margin-bottom: 0.5em;}#sk-container-id-2 div.sk-estimator:hover {background-color: #d4ebff;}#sk-container-id-2 div.sk-parallel-item::after {content: \"\";width: 100%;border-bottom: 1px solid gray;flex-grow: 1;}#sk-container-id-2 div.sk-label:hover label.sk-toggleable__label {background-color: #d4ebff;}#sk-container-id-2 div.sk-serial::before {content: \"\";position: absolute;border-left: 1px solid gray;box-sizing: border-box;top: 0;bottom: 0;left: 50%;z-index: 0;}#sk-container-id-2 div.sk-serial {display: flex;flex-direction: column;align-items: center;background-color: white;padding-right: 0.2em;padding-left: 0.2em;position: relative;}#sk-container-id-2 div.sk-item {position: relative;z-index: 1;}#sk-container-id-2 div.sk-parallel {display: flex;align-items: stretch;justify-content: center;background-color: white;position: relative;}#sk-container-id-2 div.sk-item::before, #sk-container-id-2 div.sk-parallel-item::before {content: \"\";position: absolute;border-left: 1px solid gray;box-sizing: border-box;top: 0;bottom: 0;left: 50%;z-index: -1;}#sk-container-id-2 div.sk-parallel-item {display: flex;flex-direction: column;z-index: 1;position: relative;background-color: white;}#sk-container-id-2 div.sk-parallel-item:first-child::after {align-self: flex-end;width: 50%;}#sk-container-id-2 div.sk-parallel-item:last-child::after {align-self: flex-start;width: 50%;}#sk-container-id-2 div.sk-parallel-item:only-child::after {width: 0;}#sk-container-id-2 div.sk-dashed-wrapped {border: 1px dashed gray;margin: 0 0.4em 0.5em 0.4em;box-sizing: border-box;padding-bottom: 0.4em;background-color: white;}#sk-container-id-2 div.sk-label label {font-family: monospace;font-weight: bold;display: inline-block;line-height: 1.2em;}#sk-container-id-2 div.sk-label-container {text-align: center;}#sk-container-id-2 div.sk-container {/* jupyter's `normalize.less` sets `[hidden] { display: none; }` but bootstrap.min.css set `[hidden] { display: none !important; }` so we also need the `!important` here to be able to override the default hidden behavior on the sphinx rendered scikit-learn.org. See: https://github.com/scikit-learn/scikit-learn/issues/21755 */display: inline-block !important;position: relative;}#sk-container-id-2 div.sk-text-repr-fallback {display: none;}</style><div id=\"sk-container-id-2\" class=\"sk-top-container\"><div class=\"sk-text-repr-fallback\"><pre>OneVsRestClassifier(estimator=LogisticRegression(random_state=50))</pre><b>In a Jupyter environment, please rerun this cell to show the HTML representation or trust the notebook. <br />On GitHub, the HTML representation is unable to render, please try loading this page with nbviewer.org.</b></div><div class=\"sk-container\" hidden><div class=\"sk-item sk-dashed-wrapped\"><div class=\"sk-label-container\"><div class=\"sk-label sk-toggleable\"><input class=\"sk-toggleable__control sk-hidden--visually\" id=\"sk-estimator-id-4\" type=\"checkbox\" ><label for=\"sk-estimator-id-4\" class=\"sk-toggleable__label sk-toggleable__label-arrow\">OneVsRestClassifier</label><div class=\"sk-toggleable__content\"><pre>OneVsRestClassifier(estimator=LogisticRegression(random_state=50))</pre></div></div></div><div class=\"sk-parallel\"><div class=\"sk-parallel-item\"><div class=\"sk-item\"><div class=\"sk-label-container\"><div class=\"sk-label sk-toggleable\"><input class=\"sk-toggleable__control sk-hidden--visually\" id=\"sk-estimator-id-5\" type=\"checkbox\" ><label for=\"sk-estimator-id-5\" class=\"sk-toggleable__label sk-toggleable__label-arrow\">estimator: LogisticRegression</label><div class=\"sk-toggleable__content\"><pre>LogisticRegression(random_state=50)</pre></div></div></div><div class=\"sk-serial\"><div class=\"sk-item\"><div class=\"sk-estimator sk-toggleable\"><input class=\"sk-toggleable__control sk-hidden--visually\" id=\"sk-estimator-id-6\" type=\"checkbox\" ><label for=\"sk-estimator-id-6\" class=\"sk-toggleable__label sk-toggleable__label-arrow\">LogisticRegression</label><div class=\"sk-toggleable__content\"><pre>LogisticRegression(random_state=50)</pre></div></div></div></div></div></div></div></div></div></div>"
      ],
      "text/plain": [
       "OneVsRestClassifier(estimator=LogisticRegression(random_state=50))"
      ]
     },
     "execution_count": 25,
     "metadata": {},
     "output_type": "execute_result"
    }
   ],
   "source": [
    "model3"
   ]
  },
  {
   "cell_type": "code",
   "execution_count": 40,
   "id": "9d4a0deb-d46b-4a02-8727-ff36229fdf96",
   "metadata": {
    "tags": []
   },
   "outputs": [],
   "source": [
    "# predictions = model3.predict(X_test_tdidf_vectorized)\n",
    "\n",
    "# pred_tags = mlb.inverse_transform(predictions)\n",
    "# list(zip(X_test['article_id'], pred_tags))\n",
    "# list(map(lambda a: (f\"https://habr.com/ru/articles/{a[0]}\", a[1]), zip(X_test['article_id'], pred_tags)))\n",
    "# [print(f\"tags: {tags} \\nclassified: {pred_tags}\\n\\n\") for tags, pred_tags in zip(X_test['tags'], pred_tags)]"
   ]
  },
  {
   "cell_type": "code",
   "execution_count": null,
   "id": "19525586-42f0-4db8-a5e9-cf5683fadef0",
   "metadata": {
    "tags": []
   },
   "outputs": [
    {
     "name": "stdout",
     "output_type": "stream",
     "text": [
      "warnings will be ignored\n"
     ]
    }
   ],
   "source": [
    "# var 4\n",
    "from sklearn.feature_extraction.text import TfidfVectorizer, CountVectorizer\n",
    "from sklearn.naive_bayes import MultinomialNB\n",
    "from sklearn.metrics import classification_report\n",
    "from sklearn.multiclass import OneVsRestClassifier\n",
    "\n",
    "count_vectorizer = CountVectorizer(decode_error='ignore')\n",
    "X_train_count_vectorized = count_vectorizer.fit_transform(X_train['content'])\n",
    "X_test_count_vectorized = count_vectorizer.transform(X_test['content'])\n",
    "\n",
    "\n",
    "import warnings\n",
    "warnings.filterwarnings('ignore')\n",
    "print(\"warnings will be ignored\")\n",
    "\n",
    "model4 = OneVsRestClassifier(MultinomialNB(force_alpha=False))\n",
    "model4.fit(X_train_count_vectorized, y_train)"
   ]
  },
  {
   "cell_type": "code",
   "execution_count": 20,
   "id": "c2e3c7da-4ca2-4470-b591-5d656eec904e",
   "metadata": {
    "tags": []
   },
   "outputs": [],
   "source": [
    "import pickle\n",
    "\n",
    "with open(\"logistic_regression_seed_120.model\", 'wb') as f:\n",
    "    pickle.dump(model3, f)"
   ]
  }
 ],
 "metadata": {
  "kernelspec": {
   "display_name": "datasci_venv",
   "language": "python",
   "name": "datasci_venv"
  },
  "language_info": {
   "codemirror_mode": {
    "name": "ipython",
    "version": 3
   },
   "file_extension": ".py",
   "mimetype": "text/x-python",
   "name": "python",
   "nbconvert_exporter": "python",
   "pygments_lexer": "ipython3",
   "version": "3.10.10"
  }
 },
 "nbformat": 4,
 "nbformat_minor": 5
}
