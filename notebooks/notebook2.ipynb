{
 "cells": [
  {
   "cell_type": "code",
   "execution_count": 69,
   "id": "56118fb7-f635-41f6-8a0f-ebdf6de72730",
   "metadata": {
    "tags": []
   },
   "outputs": [],
   "source": [
    "from pymystem3 import Mystem\n",
    "import nltk\n",
    "import pandas as pd\n",
    "\n",
    "import re\n",
    "import json\n",
    "from os import listdir\n",
    "from os import path"
   ]
  },
  {
   "cell_type": "code",
   "execution_count": 70,
   "id": "7697ff3b-65ff-42a0-841d-16108689ecf3",
   "metadata": {
    "tags": []
   },
   "outputs": [],
   "source": [
    "articles_dir = \"parsed_articles\"\n",
    "article_files = [f for f in listdir(articles_dir) if path.isfile(path.join(articles_dir, f))]\n",
    "\n",
    "articles = dict()\n",
    "\n",
    "for article_file in article_files:\n",
    "    article_path = path.join(articles_dir, article_file)\n",
    "    # print(article_path)\n",
    "    with open(article_path, 'r', encoding=\"UTF-8\") as f:\n",
    "        article = f.read()\n",
    "        article_json = json.loads(article)\n",
    "        articles[article_json[\"article_id\"]] = article_json\n",
    "        # print(article_json)"
   ]
  },
  {
   "cell_type": "code",
   "execution_count": 71,
   "id": "f51a0e76-62e4-4f49-a012-9aba3b085e97",
   "metadata": {
    "tags": []
   },
   "outputs": [],
   "source": [
    "from nltk.corpus import stopwords\n",
    "m = Mystem()\n",
    "# ntlk.downlo\n",
    "stopwords = set(stopwords.words('russian'))\n",
    "\n",
    "def prepare_text(text):\n",
    "    prepared_text = text\n",
    "    prepared_text = re.sub(r'\\s', ' ', prepared_text)\n",
    "    prepared_text = re.sub(r'[^\\w ]', '', prepared_text)\n",
    "    prepared_text = prepared_text.lower()\n",
    "    prepared_text = \" \".join(filter(lambda x: x not in stopwords and len(x) < 30, prepared_text.split(\" \")))\n",
    "    prepared_text = ''.join(m.lemmatize(prepared_text))\n",
    "    prepared_text = prepared_text.strip()\n",
    "    prepared_text = prepared_text[:8000]\n",
    "    \n",
    "    return prepared_text\n",
    "\n",
    "def prepare_tags(tags):\n",
    "    prepared_tags = tags\n",
    "    prepared_tags = map(lambda tag: tag.lower(), prepared_tags)\n",
    "    prepared_tags = map(lambda tag: tag.replace(\"-\", \" \"), prepared_tags)\n",
    "    \n",
    "    return list(prepared_tags)"
   ]
  },
  {
   "cell_type": "code",
   "execution_count": 72,
   "id": "60a12ef7-58d0-42ba-923e-21496e958d5c",
   "metadata": {
    "tags": []
   },
   "outputs": [],
   "source": [
    "df = pd.DataFrame(articles.values())"
   ]
  },
  {
   "cell_type": "code",
   "execution_count": 73,
   "id": "2ce49595-27ca-4a16-8cc7-88e46c62b325",
   "metadata": {
    "tags": []
   },
   "outputs": [],
   "source": [
    "df['content'] = df['content'].apply(prepare_text)\n",
    "df['tags'] = df['tags'].apply(prepare_tags)"
   ]
  },
  {
   "cell_type": "code",
   "execution_count": 74,
   "id": "5eb6a27a-ed36-4c3a-a71e-18165ee4302a",
   "metadata": {
    "tags": []
   },
   "outputs": [
    {
     "data": {
      "text/plain": [
       "3648"
      ]
     },
     "execution_count": 74,
     "metadata": {},
     "output_type": "execute_result"
    }
   ],
   "source": [
    "from sklearn.preprocessing import MultiLabelBinarizer\n",
    "mlb = MultiLabelBinarizer()\n",
    "y = mlb.fit_transform(df['tags'])\n",
    "len(mlb.classes_)"
   ]
  },
  {
   "cell_type": "code",
   "execution_count": 75,
   "id": "d4aaa287-349c-4e9e-8d01-5fbec080a324",
   "metadata": {
    "tags": []
   },
   "outputs": [
    {
     "data": {
      "text/html": [
       "<div>\n",
       "<style scoped>\n",
       "    .dataframe tbody tr th:only-of-type {\n",
       "        vertical-align: middle;\n",
       "    }\n",
       "\n",
       "    .dataframe tbody tr th {\n",
       "        vertical-align: top;\n",
       "    }\n",
       "\n",
       "    .dataframe thead th {\n",
       "        text-align: right;\n",
       "    }\n",
       "</style>\n",
       "<table border=\"1\" class=\"dataframe\">\n",
       "  <thead>\n",
       "    <tr style=\"text-align: right;\">\n",
       "      <th></th>\n",
       "      <th>article_id</th>\n",
       "      <th>article_name</th>\n",
       "      <th>content</th>\n",
       "      <th>tags</th>\n",
       "      <th>tags_bins</th>\n",
       "    </tr>\n",
       "  </thead>\n",
       "  <tbody>\n",
       "    <tr>\n",
       "      <th>0</th>\n",
       "      <td>729250</td>\n",
       "      <td>Rust Foundation хочет запретить менять цвета л...</td>\n",
       "      <td>предупреждение низко это запаздывать первоапре...</td>\n",
       "      <td>[rust, копирайт]</td>\n",
       "      <td>[0, 0, 0, 0, 0, 0, 0, 0, 0, 0, 0, 0, 0, 0, 0, ...</td>\n",
       "    </tr>\n",
       "    <tr>\n",
       "      <th>1</th>\n",
       "      <td>729060</td>\n",
       "      <td>Самый детальный разбор закона об электронных п...</td>\n",
       "      <td>новый закон электронный повестка потенциально ...</td>\n",
       "      <td>[законодательство, мобилизация, повестка, госу...</td>\n",
       "      <td>[0, 0, 0, 0, 0, 0, 0, 0, 0, 0, 0, 0, 0, 0, 0, ...</td>\n",
       "    </tr>\n",
       "    <tr>\n",
       "      <th>2</th>\n",
       "      <td>728856</td>\n",
       "      <td>Идеальное компьютерное кресло — миф или реальн...</td>\n",
       "      <td>привет хабр продолжать разбираться существоват...</td>\n",
       "      <td>[рабочее место, рабочее место программиста, кр...</td>\n",
       "      <td>[0, 0, 0, 0, 0, 0, 0, 0, 0, 0, 0, 0, 0, 0, 0, ...</td>\n",
       "    </tr>\n",
       "    <tr>\n",
       "      <th>3</th>\n",
       "      <td>728644</td>\n",
       "      <td>Стилмэнинг и идеологический тест Тьюринга</td>\n",
       "      <td>мысль начинаться наталкиваться препятствие лев...</td>\n",
       "      <td>[стилменинг, идеологический тест тьюринга, сол...</td>\n",
       "      <td>[0, 0, 0, 0, 0, 0, 0, 0, 0, 0, 0, 0, 0, 0, 0, ...</td>\n",
       "    </tr>\n",
       "    <tr>\n",
       "      <th>4</th>\n",
       "      <td>728748</td>\n",
       "      <td>RMT в World of Warcraft: почему Blizzard терпи...</td>\n",
       "      <td>промпт game world of warcraft fantasy doge mon...</td>\n",
       "      <td>[world of warcraft, blizzard, kandinsky art, н...</td>\n",
       "      <td>[0, 0, 0, 0, 0, 0, 0, 0, 0, 0, 0, 0, 0, 0, 0, ...</td>\n",
       "    </tr>\n",
       "    <tr>\n",
       "      <th>...</th>\n",
       "      <td>...</td>\n",
       "      <td>...</td>\n",
       "      <td>...</td>\n",
       "      <td>...</td>\n",
       "      <td>...</td>\n",
       "    </tr>\n",
       "    <tr>\n",
       "      <th>994</th>\n",
       "      <td>726292</td>\n",
       "      <td>Как работает веб-браузер (с картинками)</td>\n",
       "      <td>иллюстрация предоставлять  growtika браузер ст...</td>\n",
       "      <td>[браузеры, dns поиск, tcp, tls, токенизация, j...</td>\n",
       "      <td>[0, 0, 0, 0, 0, 0, 0, 0, 0, 0, 0, 0, 0, 0, 0, ...</td>\n",
       "    </tr>\n",
       "    <tr>\n",
       "      <th>995</th>\n",
       "      <td>726306</td>\n",
       "      <td>Ближайшие бесплатные мероприятия по разработке...</td>\n",
       "      <td>1 апрель начало 1100 мск суббота   онлайн    t...</td>\n",
       "      <td>[митап, конференция, mobile, документация, rab...</td>\n",
       "      <td>[0, 0, 0, 0, 0, 0, 0, 0, 0, 0, 0, 0, 0, 0, 0, ...</td>\n",
       "    </tr>\n",
       "    <tr>\n",
       "      <th>996</th>\n",
       "      <td>726316</td>\n",
       "      <td>Bash скрипты</td>\n",
       "      <td>работа командный строка linux  shell скрипт на...</td>\n",
       "      <td>[bash, bash скрипт, bash scripting, shell]</td>\n",
       "      <td>[0, 0, 0, 0, 0, 0, 0, 0, 0, 0, 0, 0, 0, 0, 0, ...</td>\n",
       "    </tr>\n",
       "    <tr>\n",
       "      <th>997</th>\n",
       "      <td>726308</td>\n",
       "      <td>ADD – добавим гибкости</td>\n",
       "      <td>такой add короче  add  английский аббревиатура...</td>\n",
       "      <td>[гибкая разработка по, методология разработки,...</td>\n",
       "      <td>[0, 0, 0, 0, 0, 1, 0, 0, 0, 0, 0, 0, 0, 0, 0, ...</td>\n",
       "    </tr>\n",
       "    <tr>\n",
       "      <th>998</th>\n",
       "      <td>726156</td>\n",
       "      <td>Позитивные сервисные байки: 10 историй от КРОК</td>\n",
       "      <td>привет хабр это команда сервисный поддержка де...</td>\n",
       "      <td>[крок, байки, 1 апреля, смешное]</td>\n",
       "      <td>[0, 0, 0, 0, 0, 1, 0, 0, 0, 0, 0, 0, 0, 0, 0, ...</td>\n",
       "    </tr>\n",
       "  </tbody>\n",
       "</table>\n",
       "<p>999 rows × 5 columns</p>\n",
       "</div>"
      ],
      "text/plain": [
       "    article_id                                       article_name  \\\n",
       "0       729250  Rust Foundation хочет запретить менять цвета л...   \n",
       "1       729060  Самый детальный разбор закона об электронных п...   \n",
       "2       728856  Идеальное компьютерное кресло — миф или реальн...   \n",
       "3       728644          Стилмэнинг и идеологический тест Тьюринга   \n",
       "4       728748  RMT в World of Warcraft: почему Blizzard терпи...   \n",
       "..         ...                                                ...   \n",
       "994     726292            Как работает веб-браузер (с картинками)   \n",
       "995     726306  Ближайшие бесплатные мероприятия по разработке...   \n",
       "996     726316                                       Bash скрипты   \n",
       "997     726308                             ADD – добавим гибкости   \n",
       "998     726156     Позитивные сервисные байки: 10 историй от КРОК   \n",
       "\n",
       "                                               content  \\\n",
       "0    предупреждение низко это запаздывать первоапре...   \n",
       "1    новый закон электронный повестка потенциально ...   \n",
       "2    привет хабр продолжать разбираться существоват...   \n",
       "3    мысль начинаться наталкиваться препятствие лев...   \n",
       "4    промпт game world of warcraft fantasy doge mon...   \n",
       "..                                                 ...   \n",
       "994  иллюстрация предоставлять  growtika браузер ст...   \n",
       "995  1 апрель начало 1100 мск суббота   онлайн    t...   \n",
       "996  работа командный строка linux  shell скрипт на...   \n",
       "997  такой add короче  add  английский аббревиатура...   \n",
       "998  привет хабр это команда сервисный поддержка де...   \n",
       "\n",
       "                                                  tags  \\\n",
       "0                                     [rust, копирайт]   \n",
       "1    [законодательство, мобилизация, повестка, госу...   \n",
       "2    [рабочее место, рабочее место программиста, кр...   \n",
       "3    [стилменинг, идеологический тест тьюринга, сол...   \n",
       "4    [world of warcraft, blizzard, kandinsky art, н...   \n",
       "..                                                 ...   \n",
       "994  [браузеры, dns поиск, tcp, tls, токенизация, j...   \n",
       "995  [митап, конференция, mobile, документация, rab...   \n",
       "996         [bash, bash скрипт, bash scripting, shell]   \n",
       "997  [гибкая разработка по, методология разработки,...   \n",
       "998                   [крок, байки, 1 апреля, смешное]   \n",
       "\n",
       "                                             tags_bins  \n",
       "0    [0, 0, 0, 0, 0, 0, 0, 0, 0, 0, 0, 0, 0, 0, 0, ...  \n",
       "1    [0, 0, 0, 0, 0, 0, 0, 0, 0, 0, 0, 0, 0, 0, 0, ...  \n",
       "2    [0, 0, 0, 0, 0, 0, 0, 0, 0, 0, 0, 0, 0, 0, 0, ...  \n",
       "3    [0, 0, 0, 0, 0, 0, 0, 0, 0, 0, 0, 0, 0, 0, 0, ...  \n",
       "4    [0, 0, 0, 0, 0, 0, 0, 0, 0, 0, 0, 0, 0, 0, 0, ...  \n",
       "..                                                 ...  \n",
       "994  [0, 0, 0, 0, 0, 0, 0, 0, 0, 0, 0, 0, 0, 0, 0, ...  \n",
       "995  [0, 0, 0, 0, 0, 0, 0, 0, 0, 0, 0, 0, 0, 0, 0, ...  \n",
       "996  [0, 0, 0, 0, 0, 0, 0, 0, 0, 0, 0, 0, 0, 0, 0, ...  \n",
       "997  [0, 0, 0, 0, 0, 1, 0, 0, 0, 0, 0, 0, 0, 0, 0, ...  \n",
       "998  [0, 0, 0, 0, 0, 1, 0, 0, 0, 0, 0, 0, 0, 0, 0, ...  \n",
       "\n",
       "[999 rows x 5 columns]"
      ]
     },
     "execution_count": 75,
     "metadata": {},
     "output_type": "execute_result"
    }
   ],
   "source": [
    "df[\"tags_bins\"] = df[\"tags\"].apply(lambda x: mlb.transform([x])[0])\n",
    "df"
   ]
  },
  {
   "cell_type": "code",
   "execution_count": 76,
   "id": "be541202-54d9-43cd-ac32-3f6c937a0ff5",
   "metadata": {
    "tags": []
   },
   "outputs": [],
   "source": [
    "from sklearn.model_selection import train_test_split\n",
    "X_train, X_test, y_train, y_test = train_test_split(df, y, test_size = 0.3, random_state=120)"
   ]
  },
  {
   "cell_type": "code",
   "execution_count": 19,
   "id": "a5aeb4b0-0f27-4fb5-ae1e-3d9cb5503ad1",
   "metadata": {
    "tags": []
   },
   "outputs": [],
   "source": [
    "# for article in df['content']:\n",
    "#     print(len(article))\n",
    "\n",
    "# import seaborn as sns\n",
    "# sns.set_theme()\n",
    "# sns.displot(df['content'], x=\"x name\")\n",
    "\n",
    "# articles_lens = map(lambda x: len(x), df['content'])\n",
    "\n",
    "# import matplotlib.pyplot as plt\n",
    "# import numpy as np\n",
    "# counts, bins = np.histogram(articles_lens)\n",
    "# plt.stairs(counts, bins)\n",
    "# list(articles_lens)"
   ]
  },
  {
   "cell_type": "code",
   "execution_count": 77,
   "id": "b08bcc52-b695-462e-b777-e7f873e6ebf0",
   "metadata": {
    "tags": []
   },
   "outputs": [],
   "source": [
    "from sklearn.feature_extraction.text import TfidfVectorizer, CountVectorizer\n",
    "\n",
    "tdidf_vectorizer = TfidfVectorizer(decode_error='ignore')\n",
    "X_train_tdidf_vectorized = tdidf_vectorizer.fit_transform(X_train['content'])\n",
    "X_test_tdidf_vectorized = tdidf_vectorizer.transform(X_test['content'])"
   ]
  },
  {
   "cell_type": "code",
   "execution_count": 78,
   "id": "00768b55-5cc8-4d81-902e-5c150ac66350",
   "metadata": {
    "tags": []
   },
   "outputs": [
    {
     "name": "stdout",
     "output_type": "stream",
     "text": [
      "warnings will be ignored\n"
     ]
    },
    {
     "data": {
      "text/html": [
       "<style>#sk-container-id-1 {color: black;background-color: white;}#sk-container-id-1 pre{padding: 0;}#sk-container-id-1 div.sk-toggleable {background-color: white;}#sk-container-id-1 label.sk-toggleable__label {cursor: pointer;display: block;width: 100%;margin-bottom: 0;padding: 0.3em;box-sizing: border-box;text-align: center;}#sk-container-id-1 label.sk-toggleable__label-arrow:before {content: \"▸\";float: left;margin-right: 0.25em;color: #696969;}#sk-container-id-1 label.sk-toggleable__label-arrow:hover:before {color: black;}#sk-container-id-1 div.sk-estimator:hover label.sk-toggleable__label-arrow:before {color: black;}#sk-container-id-1 div.sk-toggleable__content {max-height: 0;max-width: 0;overflow: hidden;text-align: left;background-color: #f0f8ff;}#sk-container-id-1 div.sk-toggleable__content pre {margin: 0.2em;color: black;border-radius: 0.25em;background-color: #f0f8ff;}#sk-container-id-1 input.sk-toggleable__control:checked~div.sk-toggleable__content {max-height: 200px;max-width: 100%;overflow: auto;}#sk-container-id-1 input.sk-toggleable__control:checked~label.sk-toggleable__label-arrow:before {content: \"▾\";}#sk-container-id-1 div.sk-estimator input.sk-toggleable__control:checked~label.sk-toggleable__label {background-color: #d4ebff;}#sk-container-id-1 div.sk-label input.sk-toggleable__control:checked~label.sk-toggleable__label {background-color: #d4ebff;}#sk-container-id-1 input.sk-hidden--visually {border: 0;clip: rect(1px 1px 1px 1px);clip: rect(1px, 1px, 1px, 1px);height: 1px;margin: -1px;overflow: hidden;padding: 0;position: absolute;width: 1px;}#sk-container-id-1 div.sk-estimator {font-family: monospace;background-color: #f0f8ff;border: 1px dotted black;border-radius: 0.25em;box-sizing: border-box;margin-bottom: 0.5em;}#sk-container-id-1 div.sk-estimator:hover {background-color: #d4ebff;}#sk-container-id-1 div.sk-parallel-item::after {content: \"\";width: 100%;border-bottom: 1px solid gray;flex-grow: 1;}#sk-container-id-1 div.sk-label:hover label.sk-toggleable__label {background-color: #d4ebff;}#sk-container-id-1 div.sk-serial::before {content: \"\";position: absolute;border-left: 1px solid gray;box-sizing: border-box;top: 0;bottom: 0;left: 50%;z-index: 0;}#sk-container-id-1 div.sk-serial {display: flex;flex-direction: column;align-items: center;background-color: white;padding-right: 0.2em;padding-left: 0.2em;position: relative;}#sk-container-id-1 div.sk-item {position: relative;z-index: 1;}#sk-container-id-1 div.sk-parallel {display: flex;align-items: stretch;justify-content: center;background-color: white;position: relative;}#sk-container-id-1 div.sk-item::before, #sk-container-id-1 div.sk-parallel-item::before {content: \"\";position: absolute;border-left: 1px solid gray;box-sizing: border-box;top: 0;bottom: 0;left: 50%;z-index: -1;}#sk-container-id-1 div.sk-parallel-item {display: flex;flex-direction: column;z-index: 1;position: relative;background-color: white;}#sk-container-id-1 div.sk-parallel-item:first-child::after {align-self: flex-end;width: 50%;}#sk-container-id-1 div.sk-parallel-item:last-child::after {align-self: flex-start;width: 50%;}#sk-container-id-1 div.sk-parallel-item:only-child::after {width: 0;}#sk-container-id-1 div.sk-dashed-wrapped {border: 1px dashed gray;margin: 0 0.4em 0.5em 0.4em;box-sizing: border-box;padding-bottom: 0.4em;background-color: white;}#sk-container-id-1 div.sk-label label {font-family: monospace;font-weight: bold;display: inline-block;line-height: 1.2em;}#sk-container-id-1 div.sk-label-container {text-align: center;}#sk-container-id-1 div.sk-container {/* jupyter's `normalize.less` sets `[hidden] { display: none; }` but bootstrap.min.css set `[hidden] { display: none !important; }` so we also need the `!important` here to be able to override the default hidden behavior on the sphinx rendered scikit-learn.org. See: https://github.com/scikit-learn/scikit-learn/issues/21755 */display: inline-block !important;position: relative;}#sk-container-id-1 div.sk-text-repr-fallback {display: none;}</style><div id=\"sk-container-id-1\" class=\"sk-top-container\"><div class=\"sk-text-repr-fallback\"><pre>OneVsRestClassifier(estimator=LinearSVC(random_state=50))</pre><b>In a Jupyter environment, please rerun this cell to show the HTML representation or trust the notebook. <br />On GitHub, the HTML representation is unable to render, please try loading this page with nbviewer.org.</b></div><div class=\"sk-container\" hidden><div class=\"sk-item sk-dashed-wrapped\"><div class=\"sk-label-container\"><div class=\"sk-label sk-toggleable\"><input class=\"sk-toggleable__control sk-hidden--visually\" id=\"sk-estimator-id-1\" type=\"checkbox\" ><label for=\"sk-estimator-id-1\" class=\"sk-toggleable__label sk-toggleable__label-arrow\">OneVsRestClassifier</label><div class=\"sk-toggleable__content\"><pre>OneVsRestClassifier(estimator=LinearSVC(random_state=50))</pre></div></div></div><div class=\"sk-parallel\"><div class=\"sk-parallel-item\"><div class=\"sk-item\"><div class=\"sk-label-container\"><div class=\"sk-label sk-toggleable\"><input class=\"sk-toggleable__control sk-hidden--visually\" id=\"sk-estimator-id-2\" type=\"checkbox\" ><label for=\"sk-estimator-id-2\" class=\"sk-toggleable__label sk-toggleable__label-arrow\">estimator: LinearSVC</label><div class=\"sk-toggleable__content\"><pre>LinearSVC(random_state=50)</pre></div></div></div><div class=\"sk-serial\"><div class=\"sk-item\"><div class=\"sk-estimator sk-toggleable\"><input class=\"sk-toggleable__control sk-hidden--visually\" id=\"sk-estimator-id-3\" type=\"checkbox\" ><label for=\"sk-estimator-id-3\" class=\"sk-toggleable__label sk-toggleable__label-arrow\">LinearSVC</label><div class=\"sk-toggleable__content\"><pre>LinearSVC(random_state=50)</pre></div></div></div></div></div></div></div></div></div></div>"
      ],
      "text/plain": [
       "OneVsRestClassifier(estimator=LinearSVC(random_state=50))"
      ]
     },
     "execution_count": 78,
     "metadata": {},
     "output_type": "execute_result"
    }
   ],
   "source": [
    "# classifier v1\n",
    "from sklearn.svm import LinearSVC\n",
    "from sklearn.metrics import classification_report\n",
    "from sklearn.multiclass import OneVsRestClassifier\n",
    "\n",
    "#обучаем подель SVM\n",
    "\n",
    "import warnings\n",
    "warnings.filterwarnings('ignore')\n",
    "print(\"warnings will be ignored\")\n",
    "\n",
    "model = OneVsRestClassifier(LinearSVC(random_state = 50))\n",
    "model.fit(X_train_tdidf_vectorized, y_train)"
   ]
  },
  {
   "cell_type": "code",
   "execution_count": 79,
   "id": "a064d6ae-81d1-4d2f-b5bb-e6d83af9d1c0",
   "metadata": {
    "tags": []
   },
   "outputs": [
    {
     "data": {
      "text/plain": [
       "[('725200', ()),\n",
       " ('727478', ()),\n",
       " ('727810', ()),\n",
       " ('726868', ()),\n",
       " ('726228', ()),\n",
       " ('726502', ()),\n",
       " ('726144', ()),\n",
       " ('725650', ()),\n",
       " ('727184', ('chatgpt',)),\n",
       " ('727094', ()),\n",
       " ('728414', ()),\n",
       " ('727738', ()),\n",
       " ('727010', ()),\n",
       " ('728184', ()),\n",
       " ('727830', ()),\n",
       " ('728100', ('chatgpt',)),\n",
       " ('729206', ()),\n",
       " ('728172', ()),\n",
       " ('726168', ()),\n",
       " ('728434', ()),\n",
       " ('728984', ()),\n",
       " ('728084', ()),\n",
       " ('726662', ()),\n",
       " ('725578', ()),\n",
       " ('726174', ()),\n",
       " ('725870', ()),\n",
       " ('729016', ()),\n",
       " ('726098', ()),\n",
       " ('725752', ()),\n",
       " ('725648', ()),\n",
       " ('727884', ()),\n",
       " ('727938', ()),\n",
       " ('727400', ()),\n",
       " ('726514', ('менеджмент', 'производительность труда')),\n",
       " ('728772', ()),\n",
       " ('726400', ()),\n",
       " ('726722', ()),\n",
       " ('729172', ()),\n",
       " ('727592', ()),\n",
       " ('727780', ()),\n",
       " ('725958', ()),\n",
       " ('726092', ()),\n",
       " ('726236', ()),\n",
       " ('727498', ('kafka',)),\n",
       " ('728720', ()),\n",
       " ('723454', ()),\n",
       " ('726106', ()),\n",
       " ('727312', ()),\n",
       " ('725750', ()),\n",
       " ('726852', ()),\n",
       " ('727826', ()),\n",
       " ('725884', ()),\n",
       " ('725800', ()),\n",
       " ('726788', ()),\n",
       " ('727718', ()),\n",
       " ('726366', ()),\n",
       " ('728820', ()),\n",
       " ('726564', ('kafka',)),\n",
       " ('728802', ()),\n",
       " ('722506', ()),\n",
       " ('718416', ()),\n",
       " ('725512', ()),\n",
       " ('705032', ()),\n",
       " ('726534', ()),\n",
       " ('728846', ()),\n",
       " ('726856', ()),\n",
       " ('727446', ()),\n",
       " ('728142', ()),\n",
       " ('727986', ()),\n",
       " ('727058', ()),\n",
       " ('727594', ()),\n",
       " ('726780', ()),\n",
       " ('723980', ()),\n",
       " ('727174', ()),\n",
       " ('723070', ()),\n",
       " ('727792', ()),\n",
       " ('727142', ()),\n",
       " ('725848', ()),\n",
       " ('726390', ()),\n",
       " ('728836', ()),\n",
       " ('729108', ()),\n",
       " ('728026', ()),\n",
       " ('728220', ()),\n",
       " ('728938', ('kotlin',)),\n",
       " ('726512', ()),\n",
       " ('727910', ()),\n",
       " ('725676', ()),\n",
       " ('726492', ()),\n",
       " ('725992', ()),\n",
       " ('727194', ()),\n",
       " ('726384', ()),\n",
       " ('727450', ()),\n",
       " ('728404', ()),\n",
       " ('725708', ()),\n",
       " ('728474', ()),\n",
       " ('727788', ()),\n",
       " ('725204', ()),\n",
       " ('726436', ()),\n",
       " ('720886', ()),\n",
       " ('727166', ()),\n",
       " ('728944', ()),\n",
       " ('726264', ()),\n",
       " ('726000', ()),\n",
       " ('725584', ()),\n",
       " ('727484', ()),\n",
       " ('726724', ()),\n",
       " ('729068', ()),\n",
       " ('726886', ()),\n",
       " ('728582', ()),\n",
       " ('729048', ()),\n",
       " ('727072', ()),\n",
       " ('728004', ()),\n",
       " ('726834', ()),\n",
       " ('728288', ()),\n",
       " ('728198',\n",
       "  ('cellular',\n",
       "   'cellular automata',\n",
       "   'game of life',\n",
       "   'timeweb_статьи',\n",
       "   'алгоритмы',\n",
       "   'игра жизнь',\n",
       "   'клеточные автоматы',\n",
       "   'клеточный автомат',\n",
       "   'теория автоматов')),\n",
       " ('727898', ()),\n",
       " ('713022', ()),\n",
       " ('725282', ()),\n",
       " ('723668', ()),\n",
       " ('728206', ()),\n",
       " ('723586', ()),\n",
       " ('729248', ()),\n",
       " ('728818', ()),\n",
       " ('726472', ()),\n",
       " ('726690', ()),\n",
       " ('726988', ()),\n",
       " ('727148', ()),\n",
       " ('728870', ()),\n",
       " ('727482', ()),\n",
       " ('712198', ()),\n",
       " ('726942', ()),\n",
       " ('728608', ()),\n",
       " ('729170', ('конференция',)),\n",
       " ('727662', ()),\n",
       " ('729000', ()),\n",
       " ('728718', ()),\n",
       " ('727872', ()),\n",
       " ('725540', ()),\n",
       " ('729144', ()),\n",
       " ('728876', ()),\n",
       " ('728402', ()),\n",
       " ('727918', ()),\n",
       " ('725548', ()),\n",
       " ('729036', ()),\n",
       " ('727760', ('artery', 'at32f403a', 'keil')),\n",
       " ('728760', ()),\n",
       " ('721650', ()),\n",
       " ('727876', ()),\n",
       " ('728230', ()),\n",
       " ('726650', ()),\n",
       " ('728332', ()),\n",
       " ('729110', ()),\n",
       " ('725620', ()),\n",
       " ('726108', ()),\n",
       " ('725704', ('chatgpt',)),\n",
       " ('726432', ()),\n",
       " ('726608', ()),\n",
       " ('728630', ()),\n",
       " ('726070', ()),\n",
       " ('726316', ()),\n",
       " ('726054', ()),\n",
       " ('726774', ()),\n",
       " ('725576', ()),\n",
       " ('723200', ()),\n",
       " ('726518', ()),\n",
       " ('726894', ()),\n",
       " ('727314', ()),\n",
       " ('725284', ()),\n",
       " ('726998', ()),\n",
       " ('725878', ()),\n",
       " ('725768', ()),\n",
       " ('727348', ()),\n",
       " ('719384', ()),\n",
       " ('727088', ()),\n",
       " ('726900', ()),\n",
       " ('728498', ()),\n",
       " ('728394', ()),\n",
       " ('727974', ()),\n",
       " ('728844', ()),\n",
       " ('727762', ()),\n",
       " ('726836', ()),\n",
       " ('726812', ()),\n",
       " ('727696', ()),\n",
       " ('726568', ()),\n",
       " ('727636', ('биология', 'звуки', 'растения')),\n",
       " ('726466', ()),\n",
       " ('727836', ()),\n",
       " ('727950', ()),\n",
       " ('726604', ()),\n",
       " ('727192', ()),\n",
       " ('727900', ()),\n",
       " ('727740', ()),\n",
       " ('727784', ()),\n",
       " ('727838', ()),\n",
       " ('728562', ()),\n",
       " ('728092', ()),\n",
       " ('727048', ()),\n",
       " ('727878', ()),\n",
       " ('726322', ()),\n",
       " ('725638', ()),\n",
       " ('728000', ()),\n",
       " ('728312', ()),\n",
       " ('721788', ()),\n",
       " ('728748', ()),\n",
       " ('727076', ()),\n",
       " ('726606', ('chatgpt',)),\n",
       " ('728480', ()),\n",
       " ('727014', ()),\n",
       " ('726640', ()),\n",
       " ('728928', ()),\n",
       " ('727304', ()),\n",
       " ('727066', ()),\n",
       " ('728588', ()),\n",
       " ('726138', ()),\n",
       " ('727580', ()),\n",
       " ('726324', ()),\n",
       " ('725956', ()),\n",
       " ('728808', ()),\n",
       " ('726704', ()),\n",
       " ('725580', ()),\n",
       " ('726932', ()),\n",
       " ('726196', ()),\n",
       " ('729078', ()),\n",
       " ('727786', ()),\n",
       " ('724776', ()),\n",
       " ('726772', ()),\n",
       " ('727254', ()),\n",
       " ('725880', ()),\n",
       " ('729022', ()),\n",
       " ('727380', ()),\n",
       " ('705844', ()),\n",
       " ('727248', ()),\n",
       " ('728828', ()),\n",
       " ('727856', ()),\n",
       " ('727106', ()),\n",
       " ('725156', ()),\n",
       " ('725748', ()),\n",
       " ('726176', ()),\n",
       " ('728594', ()),\n",
       " ('726130', ()),\n",
       " ('725876', ()),\n",
       " ('725804', ()),\n",
       " ('726838', ()),\n",
       " ('726720', ()),\n",
       " ('726340', ()),\n",
       " ('727228', ()),\n",
       " ('726928', ()),\n",
       " ('726396', ()),\n",
       " ('727822', ()),\n",
       " ('725724', ('искусственный интеллект',)),\n",
       " ('726010', ('ии', 'искусственный интеллект')),\n",
       " ('725360', ()),\n",
       " ('724978', ()),\n",
       " ('727630', ()),\n",
       " ('727682', ()),\n",
       " ('729114', ()),\n",
       " ('722426', ()),\n",
       " ('725770', ()),\n",
       " ('727028', ()),\n",
       " ('726970', ()),\n",
       " ('726912', ()),\n",
       " ('727092', ()),\n",
       " ('726620', ()),\n",
       " ('726490', ()),\n",
       " ('726854', ()),\n",
       " ('728614', ()),\n",
       " ('727442', ()),\n",
       " ('727708', ()),\n",
       " ('728194', ()),\n",
       " ('727618', ()),\n",
       " ('728410', ('chatgpt',)),\n",
       " ('726904', ()),\n",
       " ('725990', ()),\n",
       " ('727602', ()),\n",
       " ('727226', ()),\n",
       " ('728466', ()),\n",
       " ('727624', ()),\n",
       " ('726818', ()),\n",
       " ('725758', ()),\n",
       " ('727180', ()),\n",
       " ('725668', ()),\n",
       " ('725960', ()),\n",
       " ('727266', ()),\n",
       " ('727404', ()),\n",
       " ('726652', ()),\n",
       " ('726226', ()),\n",
       " ('725916', ()),\n",
       " ('727008', ()),\n",
       " ('726162', ()),\n",
       " ('726898', ()),\n",
       " ('727154', ()),\n",
       " ('727892', ()),\n",
       " ('727770', ()),\n",
       " ('724308', ()),\n",
       " ('725932', ()),\n",
       " ('726434', ()),\n",
       " ('722434', ()),\n",
       " ('727462', ()),\n",
       " ('728540', ()),\n",
       " ('726964', ())]"
      ]
     },
     "execution_count": 79,
     "metadata": {},
     "output_type": "execute_result"
    }
   ],
   "source": [
    "predictions = model.predict(X_test_tdidf_vectorized)\n",
    "pred_tags = mlb.inverse_transform(predictions)\n",
    "list(zip(X_test['article_id'], pred_tags))\n",
    "# for tags, pred_tags in zip(X_test['tags'], pred_tags):\n",
    "    # print(f\"tags: {tags} \\nclassified: {pred_tags}\\n\\n\")"
   ]
  },
  {
   "cell_type": "code",
   "execution_count": 80,
   "id": "b019d2e0-2355-4b6a-88f8-387c28d1f922",
   "metadata": {
    "tags": []
   },
   "outputs": [
    {
     "data": {
      "text/plain": [
       "0.0033333333333333335"
      ]
     },
     "execution_count": 80,
     "metadata": {},
     "output_type": "execute_result"
    }
   ],
   "source": [
    "model.score(X_test_tdidf_vectorized, y_test)"
   ]
  },
  {
   "cell_type": "code",
   "execution_count": 49,
   "id": "fc55331e-7565-4ff5-8af6-a92a84e7c8ed",
   "metadata": {
    "tags": []
   },
   "outputs": [],
   "source": [
    "for i in range(len(df['content'])):\n",
    "    with open(f\"test_tmp/article_{i}_content\", 'w') as f:\n",
    "        f.write(df['content'][i])"
   ]
  },
  {
   "cell_type": "code",
   "execution_count": 8,
   "id": "21799d22-ad65-4f27-a32f-43adf0248ed2",
   "metadata": {
    "tags": []
   },
   "outputs": [
    {
     "name": "stderr",
     "output_type": "stream",
     "text": [
      "Read 0M words\n",
      "Number of words:  5\n",
      "Number of labels: 0\n",
      "Progress: 100.0% words/sec/thread:    2315 lr:  0.000000 avg.loss:  4.117939 ETA:   0h 0m 0s\n"
     ]
    }
   ],
   "source": [
    "import/text.train_unsupervised('test_tmp/article_0_content')"
   ]
  },
  {
   "cell_type": "code",
   "execution_count": 14,
   "id": "49fbad50-9402-404a-9c58-442c471f0d33",
   "metadata": {
    "tags": []
   },
   "outputs": [],
   "source": [
    "# for i in range(len(df['content'])):\n",
    "#     model = fasttext.train_unsupervised(f'test_tmp/article_{i}_content')\n",
    "#     print(df['article_id'][i], df['tags'][i], model.words)"
   ]
  },
  {
   "cell_type": "code",
   "execution_count": 15,
   "id": "5a19f816-ee87-44dc-8b79-9b77b01b6a2c",
   "metadata": {
    "tags": []
   },
   "outputs": [
    {
     "data": {
      "text/plain": [
       "['робот',\n",
       " 'процесс',\n",
       " 'uipath',\n",
       " 'rpa',\n",
       " 'проект',\n",
       " 'pix',\n",
       " 'работа',\n",
       " 'находить',\n",
       " 'библиотека',\n",
       " 'нужно',\n",
       " 'который',\n",
       " 'элемент',\n",
       " 'это',\n",
       " 'задача',\n",
       " 'год',\n",
       " 'далеко',\n",
       " 'работать',\n",
       " 'решение',\n",
       " 'делать',\n",
       " 'hoff',\n",
       " 'запускать',\n",
       " 'активность',\n",
       " 'разработка',\n",
       " '2022']"
      ]
     },
     "execution_count": 15,
     "metadata": {},
     "output_type": "execute_result"
    }
   ],
   "source": [
    "model.words"
   ]
  },
  {
   "cell_type": "code",
   "execution_count": 54,
   "id": "0c745415-c374-434e-901c-2c9ff5bb3131",
   "metadata": {
    "tags": []
   },
   "outputs": [
    {
     "data": {
      "text/html": [
       "<div>\n",
       "<style scoped>\n",
       "    .dataframe tbody tr th:only-of-type {\n",
       "        vertical-align: middle;\n",
       "    }\n",
       "\n",
       "    .dataframe tbody tr th {\n",
       "        vertical-align: top;\n",
       "    }\n",
       "\n",
       "    .dataframe thead th {\n",
       "        text-align: right;\n",
       "    }\n",
       "</style>\n",
       "<table border=\"1\" class=\"dataframe\">\n",
       "  <thead>\n",
       "    <tr style=\"text-align: right;\">\n",
       "      <th></th>\n",
       "      <th>article_id</th>\n",
       "      <th>article_name</th>\n",
       "      <th>content</th>\n",
       "      <th>tags</th>\n",
       "    </tr>\n",
       "  </thead>\n",
       "  <tbody>\n",
       "    <tr>\n",
       "      <th>642</th>\n",
       "      <td>723214</td>\n",
       "      <td>Как создавать SBOM в Java с помощью Maven и Gr...</td>\n",
       "      <td>При создании приложений на Java мы сильно зави...</td>\n",
       "      <td>[devops *, безопасность, security]</td>\n",
       "    </tr>\n",
       "  </tbody>\n",
       "</table>\n",
       "</div>"
      ],
      "text/plain": [
       "    article_id                                       article_name  \\\n",
       "642     723214  Как создавать SBOM в Java с помощью Maven и Gr...   \n",
       "\n",
       "                                               content  \\\n",
       "642  При создании приложений на Java мы сильно зави...   \n",
       "\n",
       "                                   tags  \n",
       "642  [devops *, безопасность, security]  "
      ]
     },
     "execution_count": 54,
     "metadata": {},
     "output_type": "execute_result"
    }
   ],
   "source": [
    "# df['article_id'].index(\"723214\")\n",
    "#\"723214\"\n",
    "a = df.loc[df['article_id'] == \"723214\"]\n",
    "a"
   ]
  },
  {
   "cell_type": "code",
   "execution_count": 68,
   "id": "52812a38-0c93-4456-9862-b56416c10395",
   "metadata": {
    "tags": []
   },
   "outputs": [
    {
     "data": {
      "text/plain": [
       "'создание приложение java сильно зависеть внешний библиотека фреймворков каждый импортировать пакет java скоро также зависеть больший количество библиотека это означать количество javaпакетов включать ваш приложение часто прозрачно вложенный транзитивный зависимость создавать проблема заключаться разработчик вероятно знать библиотека который самый дело использовать недавно обсуждать почему должный тщательно поддерживать наш зависимость статья   хороший практика управление зависимость java  рассказывать доступный вариант инструмент настройка стратегия управление зависимость передавать свой javaприложение клиент узнавать какой зависимость включать важный мочь проверять уязвимый зависимость проблема безопасность ответ являться  спецификация программный обеспечение  sbom software bill of materials такой sbom спецификация  программный обеспечение  часто сокращенно называть sbom представлять себя список программный компонент использовать приложение sbom состоять сторонний библиотека открытый исходный код пакет предоставлять поставщик собственный артефакт создавать организация принцип sbom  рассматривать полный список ингредиент ваш приложение быть осторожный путать sbom bill of materials bom maven maven bom  это особый вид pomфайла который мочь централизовать зависимость приложение большинство случай зависимость работать вместе должный использоваться набор видеть bom использовать spring sbom  это создавать рядом ваш приложение любой пользователь клиент иметь единый способ узнавать ваш приложение использовать капот почему должный создавать sbom существовать несколько причина создание sbom прежде обеспечивать прозрачность содержать ваш приложение большинство javaприложений 80 90 создавать бинарный файл состоять другой javaпакетов такой библиотека фреймворка настоящий время видеть  проблема безопасность цепочка поставка  зависимость который использовать являться часть ваш цепочка поставка поэтому один этот библиотека обнаруживаться проблема необходимо знать уязвимый приложение взять недавний уязвимость  log4shell    spring4shell  изза который скомпрометировать некоторый широко использовать пакет sbom предоставляться часть каждый выпуск конечный пользователь клиент мочь легко проверять затрагивать уязвимость ожидаться создание sbom становиться обычный практика обязательный поставка программный обеспечение поэтому считать важный рассказывать создавать sbom ваш javaпроекта рассказывать оставаться часть статья стандарт sbom spdx cyclonedx настоящий время существовать несколько стандарт sbom два наиболее часто использовать являться spdx cyclonedx оба стандарт обеспечивать способ отображение компонент который содержать ваш приложение software package data exchange spdx  это совместный проект linux foundation который обеспечивать открытый стандарт передача информация программный пакет включая информация происхождение лицензирование безопасность другой связанный информация спецификация spdx признавать международный открытый стандарт безопасность лицензионный соответствие другой артефакт цепочка поставка программный обеспечение качество isoiec 59622021 cyclonedx  это стандарт sbom фонд owasp разрабатывать контекст безопасность приложение анализ компонент цепочка поставка обеспечивать инвентаризация компонент программный обеспечение собственный сторонний производитель спецификация обширный выходить рамка библиотека программный обеспечение включать такой стандарт спецификация программный обеспечение услуга saasbom vulnerability exploitability exchange vex многий другой проект cyclonedx предоставлять стандарт xml json protocol buffers также большой   коллекция официальный поддерживать сообщество инструмент  который создавать взаимодействовать стандарт создавать sbom java java  компилировать язык поэтому следовать создавать sbom всякий собирать релизный версия свой приложение поэтому создание sbom использование один система сборка java иметь большой смысл поскольку ваш система сборка загружать пакет необходимый компиляция сборка ваш приложение использовать плагин maven gradle мочь легко создавать sbom каждый выпуск ваш бинарный файл либо отдельный машина либо часть ваш конвейер ci создание sbom java помощь maven плагин cyclonedx maven maven central   github  доступный плагин cylconedx который судя все поддерживаться часто использоваться plugins    plugin        groupidorgcyclonedxgroupid               version271version        executions            execution                phasepackagephase                goals                    goalmakeaggregatebomgoal                goals            execution        executions        configuration            projecttypelibraryprojecttype            schemaversion14schemaversion                                                                                                    outputformatalloutputformat                   configuration    plugin plugins мочь настраивать плагин cyclonedx различный способ данный случай привязывать цель плагин  makeaggregatebom  фаза пакет maven создание мой jar плагин создавать sbom учет агрегация исключать тестовый зависимость публиковать sbom формат xml json мой целевой папка зависимость прямой транзитивный упоминаться sbom отдельность показывать ниже данный случай пакет   jacksondatabind  транзитивный включать мой приложение файл   sprintbootstarterweb  component typelibrary  publisherfasterxmlpublisher   namejacksondatabindname  version2134version  descriptiongeneral databinding functionality for jackson works on core streaming apidescription  hashes    hash    hash    hash    hash    hash    hash    hash    hash  hashes  licenses    license      idapache20id    license  licenses   externalreferencesreference component плагин spdx maven прототип spdx также существовать  плагин maven  однако обозначать прототип приводить ниже пример использовать последний версия момент написание статья конфигурация аналогичный указанный github readme кроме привязывать задача создание spdx фаза создание пакет аналогично пример cyclonedx plugin    groupidorgspdxgroupid       version061version    executions        execution            idbuildspdxid            phasepackagephase            goals                goalcreatespdxgoal            goals        execution    executions plugin вывод умолчание версия плагин находиться файл   видно расширение файл умолчание выводиться json просматривать вывод удивляться содержать зависимость верхний уровень транзитивный  плагин помечать прототип это причина кроме возможно делать чтото однако чтение документация давать четкий подсказка инструмент spdx cli maven качество альтернатива существовать инструмент командный строка название   spdxsbomgenerator  инструмент cli генерировать spdx sbom многий менеджер пакет включая maven javaприложений gradle настоящий время поддерживаться вызов инструмент командный строка какихлибо параметр корень мой приложение создавать sbom формат spdx другой выходной данные такой json также поддерживаться помощь параметр spdxsbomgenerator сгенерировать sbom похоже иметься транзитивный зависимость упоминать отдельность предполагать  package representing the jacksondatabind  packagename jacksondatabind spdxid packageversion 2134 packagesupplier organization jacksondatabind packagedownloadlocation filesanalyzed false packagechecksum sha1 packagehomepage noassertion packagelicenseconcluded noassertion packagelicensedeclared noassertion packagecopyrighttext noassertion packagelicensecomments noassertion packagecomment noassertion  relationship depends_on relationship depends_on spdxrefpackagejacksoncore2134 хотеть создавать sbom формат spdx посоветовать инструмент вместо плагинапрототип создание java sbom помощь gradle давать посмотреть gradle хотя gradle использоваться редко maven использоваться значительный степень мочь определенно сказать это принимать инструмент сборка экосистема java cyclonedx gradle gradle существовать плагин cyclonedx плагин maven который говорить ранее плагин gradle выпускаться организация   cyclonedx github   часть тот сопровождать плагин mave'"
      ]
     },
     "execution_count": 68,
     "metadata": {},
     "output_type": "execute_result"
    }
   ],
   "source": [
    "prepare_text(a['content'].values[0])"
   ]
  }
 ],
 "metadata": {
  "kernelspec": {
   "display_name": "datasci_venv",
   "language": "python",
   "name": "datasci_venv"
  },
  "language_info": {
   "codemirror_mode": {
    "name": "ipython",
    "version": 3
   },
   "file_extension": ".py",
   "mimetype": "text/x-python",
   "name": "python",
   "nbconvert_exporter": "python",
   "pygments_lexer": "ipython3",
   "version": "3.10.10"
  }
 },
 "nbformat": 4,
 "nbformat_minor": 5
}
